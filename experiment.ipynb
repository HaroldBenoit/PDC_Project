{
 "cells": [
  {
   "cell_type": "code",
   "execution_count": 35,
   "metadata": {},
   "outputs": [],
   "source": [
    "import numpy as np"
   ]
  },
  {
   "cell_type": "code",
   "execution_count": 108,
   "metadata": {
    "scrolled": true
   },
   "outputs": [
    {
     "data": {
      "text/plain": [
       "array([-2.15576509, -2.05213713,  0.72147374, -0.47810265, -0.34656381,\n",
       "       -0.0570329 ,  7.11202744,  0.05845679,  0.46165574,  1.72149097])"
      ]
     },
     "execution_count": 108,
     "metadata": {},
     "output_type": "execute_result"
    }
   ],
   "source": [
    "np.sqrt(10)*np.random.randn(10)"
   ]
  },
  {
   "cell_type": "code",
   "execution_count": 67,
   "metadata": {},
   "outputs": [],
   "source": [
    "def channel(chanInput):\n",
    "    chanInput = np.clip(chanInput,-1,1)\n",
    "    erasedIndex = np.random.randint(3)\n",
    "    chanInput[erasedIndex:len(chanInput):3] = 0\n",
    "    return chanInput + np.sqrt(10)*np.random.randn(len(chanInput))\n",
    "\n",
    "\"\"\"\n",
    "Noiseless channel\n",
    "\"\"\"\n",
    "def easyChannel(chanInput):\n",
    "    chanInput = np.clip(chanInput,-1,1)\n",
    "    erasedIndex = np.random.randint(3)\n",
    "    chanInput[erasedIndex:len(chanInput):3] = 0\n",
    "    return chanInput\n",
    "    \n",
    "\"\"\"\n",
    "Takes an input in [0,3] and returns the corresponding codeword\n",
    "\n",
    "\"\"\"\n",
    "def create_code(i):\n",
    "    codebook = {0:[1,1,1,1,1,1],1:[-1,-1,-1,-1,-1,-1]}\n",
    "    return np.array(codebook[i])\n",
    "\n",
    "\n",
    "\n",
    "def getbits(num):\n",
    "    bits = []\n",
    "    for i in range(7,-1,-1):\n",
    "        bits.append((num >> i)&1)\n",
    "    return bits\n",
    "\n",
    "\"\"\"\n",
    "\n",
    "\"\"\"\n",
    "def encode(input):\n",
    "    arr = np.array(bytearray(input, 'utf-8')).astype('int')\n",
    "    output = np.empty\n",
    "    for i in range(len(arr)):\n",
    "        num = arr[i]\n",
    "        bits = getbits(num)\n",
    "        for j in range(8):\n",
    "            output = np.hstack((output,create_code(bits[j])))\n",
    "        \n",
    "    #remove empty in the beginning\n",
    "    return output[1:]\n",
    "\n",
    "\n",
    "def decode_from_codeword(arr):\n",
    "    \n",
    "    if(len(arr) != 6):\n",
    "        raise ValueError(\"wrong length, should be 6\")\n",
    "    \n",
    "    for j in range(len(arr)):\n",
    "        if arr[j] == 1:\n",
    "            return 0\n",
    "        elif arr[j] == -1:\n",
    "            return 1\n",
    "    \n",
    "    raise ValueError(\"array isn't a valid codeword\")\n",
    "    \n",
    "\n",
    "def get_byte_from_arr(arr):\n",
    "    if(len(arr) != 8):\n",
    "        raise ValueError(\"wrong length,should be 8\")\n",
    "        \n",
    "    byte = 0\n",
    "    \n",
    "    for i in range(8):\n",
    "        byte += arr[i]*(2**(8-(i+1)))\n",
    "    \n",
    "    return byte\n",
    "                     \n",
    "\n",
    "\n",
    "def predict_erased(input):\n",
    "    input = np.absolute(input)\n",
    "    min = np.inf\n",
    "    min_index= 0\n",
    "    \n",
    "    for i in range(3):\n",
    "        sum = np.sum(input[i:len(input):3])\n",
    "        if sum < min:\n",
    "            min = sum\n",
    "            min_index = i\n",
    "\n",
    "    return min_index\n",
    "\n",
    "\"\"\"\n",
    "This function takes a noisy real-valued 1D np.array of size (8*6)k \n",
    "It assumes that a third of the coordinates were erased and that there's Gaussian Noise of mean 0 and variance 10\n",
    "\"\"\" \n",
    "def prediction(input):\n",
    "    \n",
    "    erasedIndex = predict_erased(input)\n",
    "    input[erasedIndex:len(input):3] = 0\n",
    "    \n",
    "    c_0 = np.array([1,1,1,1,1,1])\n",
    "    c_1 = np.array([-1,-1,-1,-1,-1,-1])\n",
    "    length = len(c_0)\n",
    "    \n",
    "    for i in range(0,input.size,length):\n",
    "        sub_arr = input[i:i+length]\n",
    "        \n",
    "        if np.dot(sub_arr,c_0) >= np.dot(sub_arr,c_1):\n",
    "            input[i:i+length] = c_0\n",
    "        else:\n",
    "            input[i:i+length] = c_1\n",
    "            \n",
    "    return input\n",
    "    \n",
    "\"\"\"\n",
    "This function takes a 1D np.array of size (8*6)k and returns the string.\n",
    "It assumes that input is {-1,1}^((8*6)k) with a third of the values being zero\n",
    "\"\"\"\n",
    "def decode_after_prediction(input):\n",
    "    output = []\n",
    "    outer_step = 8*6\n",
    "    inner_step = 6\n",
    "    for i in range(0,input.size,outer_step):\n",
    "        bits = []\n",
    "        arr = input[i:i+outer_step]\n",
    "        for j in range(0,arr.size,inner_step):\n",
    "            bits.append(decode_from_codeword(arr[j:j+inner_step]))\n",
    "            \n",
    "        output.append(get_byte_from_arr(bits))\n",
    "            \n",
    "    return str(bytearray(output),'utf-8')\n"
   ]
  },
  {
   "cell_type": "code",
   "execution_count": 70,
   "metadata": {},
   "outputs": [
    {
     "ename": "UnicodeDecodeError",
     "evalue": "'utf-8' codec can't decode byte 0x9a in position 5: invalid start byte",
     "output_type": "error",
     "traceback": [
      "\u001b[1;31m---------------------------------------------------------------------------\u001b[0m",
      "\u001b[1;31mUnicodeDecodeError\u001b[0m                        Traceback (most recent call last)",
      "\u001b[1;32m<ipython-input-70-1ebd51d69f97>\u001b[0m in \u001b[0;36m<module>\u001b[1;34m\u001b[0m\n\u001b[0;32m      3\u001b[0m \u001b[0mencoded_loss\u001b[0m \u001b[1;33m=\u001b[0m \u001b[0mchannel\u001b[0m\u001b[1;33m(\u001b[0m\u001b[0mencoded\u001b[0m\u001b[1;33m)\u001b[0m\u001b[1;33m\u001b[0m\u001b[1;33m\u001b[0m\u001b[0m\n\u001b[0;32m      4\u001b[0m \u001b[0mpred\u001b[0m \u001b[1;33m=\u001b[0m \u001b[0mprediction\u001b[0m\u001b[1;33m(\u001b[0m\u001b[0mencoded_loss\u001b[0m\u001b[1;33m)\u001b[0m\u001b[1;33m\u001b[0m\u001b[1;33m\u001b[0m\u001b[0m\n\u001b[1;32m----> 5\u001b[1;33m \u001b[0mdecoded\u001b[0m \u001b[1;33m=\u001b[0m \u001b[0mdecode_after_prediction\u001b[0m\u001b[1;33m(\u001b[0m\u001b[0mpred\u001b[0m\u001b[1;33m)\u001b[0m\u001b[1;33m\u001b[0m\u001b[1;33m\u001b[0m\u001b[0m\n\u001b[0m\u001b[0;32m      6\u001b[0m \u001b[0mprint\u001b[0m\u001b[1;33m(\u001b[0m\u001b[0mdecoded\u001b[0m\u001b[1;33m)\u001b[0m\u001b[1;33m\u001b[0m\u001b[1;33m\u001b[0m\u001b[0m\n\u001b[0;32m      7\u001b[0m \u001b[0mprint\u001b[0m\u001b[1;33m(\u001b[0m\u001b[0mdecoded\u001b[0m\u001b[1;33m==\u001b[0m\u001b[0minput\u001b[0m\u001b[1;33m)\u001b[0m\u001b[1;33m\u001b[0m\u001b[1;33m\u001b[0m\u001b[0m\n",
      "\u001b[1;32m<ipython-input-67-7cabb6b763f6>\u001b[0m in \u001b[0;36mdecode_after_prediction\u001b[1;34m(input)\u001b[0m\n\u001b[0;32m    125\u001b[0m         \u001b[0moutput\u001b[0m\u001b[1;33m.\u001b[0m\u001b[0mappend\u001b[0m\u001b[1;33m(\u001b[0m\u001b[0mget_byte_from_arr\u001b[0m\u001b[1;33m(\u001b[0m\u001b[0mbits\u001b[0m\u001b[1;33m)\u001b[0m\u001b[1;33m)\u001b[0m\u001b[1;33m\u001b[0m\u001b[1;33m\u001b[0m\u001b[0m\n\u001b[0;32m    126\u001b[0m \u001b[1;33m\u001b[0m\u001b[0m\n\u001b[1;32m--> 127\u001b[1;33m     \u001b[1;32mreturn\u001b[0m \u001b[0mstr\u001b[0m\u001b[1;33m(\u001b[0m\u001b[0mbytearray\u001b[0m\u001b[1;33m(\u001b[0m\u001b[0moutput\u001b[0m\u001b[1;33m)\u001b[0m\u001b[1;33m,\u001b[0m\u001b[1;34m'utf-8'\u001b[0m\u001b[1;33m)\u001b[0m\u001b[1;33m\u001b[0m\u001b[1;33m\u001b[0m\u001b[0m\n\u001b[0m",
      "\u001b[1;31mUnicodeDecodeError\u001b[0m: 'utf-8' codec can't decode byte 0x9a in position 5: invalid start byte"
     ]
    }
   ],
   "source": [
    "input= 'asda@¦#°#@°@§#@#§hfasugvbvavàé¨é'\n",
    "encoded = encode(input)\n",
    "encoded_loss = channel(encoded)\n",
    "pred = prediction(encoded_loss)\n",
    "decoded = decode_after_prediction(pred)\n",
    "print(decoded)\n",
    "print(decoded==input)"
   ]
  }
 ],
 "metadata": {
  "kernelspec": {
   "display_name": "Python 3",
   "language": "python",
   "name": "python3"
  },
  "language_info": {
   "codemirror_mode": {
    "name": "ipython",
    "version": 3
   },
   "file_extension": ".py",
   "mimetype": "text/x-python",
   "name": "python",
   "nbconvert_exporter": "python",
   "pygments_lexer": "ipython3",
   "version": "3.8.5"
  }
 },
 "nbformat": 4,
 "nbformat_minor": 4
}
