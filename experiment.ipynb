{
 "cells": [
  {
   "cell_type": "code",
   "execution_count": 2,
   "metadata": {},
   "outputs": [],
   "source": [
    "import numpy as np"
   ]
  },
  {
   "cell_type": "code",
   "execution_count": 108,
   "metadata": {
    "scrolled": true
   },
   "outputs": [
    {
     "data": {
      "text/plain": [
       "array([-2.15576509, -2.05213713,  0.72147374, -0.47810265, -0.34656381,\n",
       "       -0.0570329 ,  7.11202744,  0.05845679,  0.46165574,  1.72149097])"
      ]
     },
     "execution_count": 108,
     "metadata": {},
     "output_type": "execute_result"
    }
   ],
   "source": [
    "np.sqrt(10)*np.random.randn(10)"
   ]
  },
  {
   "cell_type": "code",
   "execution_count": 235,
   "metadata": {},
   "outputs": [],
   "source": [
    "\"\"\"\n",
    "Noisy channel\n",
    "\"\"\"    \n",
    "def channel(chanInput):\n",
    "    chanInput = np.clip(chanInput,-1,1)\n",
    "    erasedIndex = np.random.randint(3)\n",
    "    print(\"ERASED INDEX IS \", erasedIndex)\n",
    "    chanInput[erasedIndex:len(chanInput):3] = 0\n",
    "    return chanInput + np.sqrt(10)*np.random.randn(len(chanInput))\n",
    "\n",
    "\"\"\"\n",
    "Noiseless channel\n",
    "\"\"\"\n",
    "def easyChannel(chanInput):\n",
    "    chanInput = np.clip(chanInput,-1,1)\n",
    "    erasedIndex = np.random.randint(3)\n",
    "    chanInput[erasedIndex:len(chanInput):3] = 0\n",
    "    return chanInput\n",
    "    \n",
    "\n",
    "\"\"\"\n",
    "Return the array of bits given a number in [0,255]\n",
    "\"\"\"\n",
    "def getbits(num):\n",
    "    bits = []\n",
    "    for i in range(7,-1,-1):\n",
    "        bits.append((num >> i)&1)\n",
    "    return bits\n",
    "\n",
    "\"\"\"\n",
    "Given a string, transforms into into its binary form and replaces each bit by its corresponding codeword\n",
    "\"\"\"\n",
    "def encode(input,codebook):\n",
    "    arr = np.array(bytearray(input, 'utf-8')).astype('int')\n",
    "    output = np.empty\n",
    "    for i in range(len(arr)):\n",
    "        num = arr[i]\n",
    "        bits = getbits(num)\n",
    "        for j in range(8):\n",
    "            codeword = np.array(codebook[bits[j]])\n",
    "            output = np.hstack((output,codeword))\n",
    "        \n",
    "    #remove empty in the beginning\n",
    "    return output[1:]\n",
    "\n",
    "\n",
    "\"\"\"\n",
    "GIven a codeword, returns whether it was H=0  or H=1\n",
    "\"\"\"\n",
    "def decode_from_codeword(arr):\n",
    "    \n",
    "    \n",
    "    for j in range(len(arr)):\n",
    "        if arr[j] == 1:\n",
    "            return 0\n",
    "        elif arr[j] == -1:\n",
    "            return 1\n",
    "    \n",
    "    raise ValueError(\"array isn't a valid codeword\")\n",
    "    \n",
    "\n",
    "\"\"\"\n",
    "Given an array of 8 bits, compute the corresponding byte\n",
    "\"\"\"\n",
    "def get_byte_from_arr(arr):\n",
    "    if(len(arr) != 8):\n",
    "        raise ValueError(\"wrong length,should be 8\")\n",
    "        \n",
    "    byte = 0\n",
    "    \n",
    "    for i in range(8):\n",
    "        byte += arr[i]*(2**(8-(i+1)))\n",
    "    \n",
    "    return byte\n",
    "                     \n",
    "\"\"\"\n",
    "predict the erased index \n",
    "algo: argmin_{j}{sum over |Yi^2 where i is part of the group (Z/3Z) + j }\n",
    "\"\"\"\n",
    "\n",
    "def predict_erased(input):\n",
    "    input = input*input\n",
    "    min = np.inf\n",
    "    min_index= 0\n",
    "    \n",
    "    for i in range(3):\n",
    "        sum = np.sum(input[i:len(input):3])\n",
    "        if sum < min:\n",
    "            min = sum\n",
    "            min_index = i\n",
    "\n",
    "    return min_index\n",
    "\n",
    "def min_distance_prediction(arr,codebook):\n",
    "    min = -np.inf\n",
    "    min_index= 0\n",
    "    \n",
    "    for i in range(len(codebook.keys())):\n",
    "        dist = np.dot(arr,codebook[i]) ##compute distance\n",
    "        \n",
    "        if dist > min:\n",
    "            min = dist\n",
    "            min_index = i\n",
    "            \n",
    "    return min_index\n",
    "\n",
    "\"\"\"\n",
    "This function takes a noisy real-valued 1D np.array of size code_length*k, k positive integer\n",
    "It assumes that a third of the coordinates were erased and that there's Gaussian Noise of mean 0 and variance 10.\n",
    "\n",
    "It first predicts the erased index and puts every such erased coordinate at 0.\n",
    "\n",
    "It then does minimum-distance decoding for sub_array of size code_length and replaces it by the found codeword\n",
    "\"\"\" \n",
    "def prediction(input, codebook):\n",
    "    \n",
    "    erasedIndex = predict_erased(input)\n",
    "    print(\"PREDICTED ERASED INDEX IS \", erasedIndex)\n",
    "    input[erasedIndex:len(input):3] = 0\n",
    "    \n",
    "    code_length = len(codebook[0])\n",
    "    \n",
    "    for i in range(0,input.size,code_length):\n",
    "        sub_arr = input[i:i+code_length]\n",
    "        \n",
    "        predicted_index = min_distance_prediction(sub_arr,codebook)\n",
    "        input[i:i+code_length] = codebook[predicted_index]\n",
    "            \n",
    "    return input\n",
    "    \n",
    "\"\"\"\n",
    "This function takes a 1D np.array of size (8*6)k and returns the string.\n",
    "It assumes that input is {-1,1}^((8*6)k) with a third of the values being zero\n",
    "\"\"\"\n",
    "def decode_after_prediction(input,codebook):\n",
    "    output = []\n",
    "    code_length = len(codebook[0])\n",
    "    outer_step = 8*code_length\n",
    "    inner_step = code_length\n",
    "    for i in range(0,input.size,outer_step):\n",
    "        bits = []\n",
    "        arr = input[i:i+outer_step]\n",
    "        for j in range(0,arr.size,inner_step):\n",
    "            bits.append(decode_from_codeword(arr[j:j+inner_step]))\n",
    "            \n",
    "        output.append(get_byte_from_arr(bits))\n",
    "            \n",
    "    return str(bytearray(output),'utf-8')"
   ]
  },
  {
   "cell_type": "code",
   "execution_count": 63,
   "metadata": {},
   "outputs": [
    {
     "data": {
      "text/plain": [
       "[1, 1, 1, 1, 1, 1, 1, 1, 1, 1, 1, 1, 1, 1, 1, 1, 1, 1]"
      ]
     },
     "execution_count": 63,
     "metadata": {},
     "output_type": "execute_result"
    }
   ],
   "source": []
  },
  {
   "cell_type": "code",
   "execution_count": 272,
   "metadata": {
    "scrolled": true
   },
   "outputs": [
    {
     "name": "stdout",
     "output_type": "stream",
     "text": [
      "ERASED INDEX IS  2\n",
      "PREDICTED ERASED INDEX IS  2\n",
      "asda@¦#²#@°@§#@#§hFasug6bvavàé¨éihsdfbffffffbfffpoWWRr1048725§\n",
      "False\n"
     ]
    }
   ],
   "source": [
    "input='asda@¦#°#@°@§#@#§hfasugvbvavàé¨éahsdffffffffffffpoWWR21048725§'\n",
    "code_length = 100\n",
    "c_0 = [1 for x in range(code_length)]\n",
    "c_1 = [-1 for x in range(code_length)]\n",
    "codebook = {0:c_0,1:c_1}\n",
    "encoded = encode(input,codebook)\n",
    "encoded_loss = channel(encoded)\n",
    "pred = prediction(encoded_loss,codebook)\n",
    "decoded = decode_after_prediction(pred,codebook)\n",
    "print(decoded)\n",
    "print(decoded==input)"
   ]
  },
  {
   "cell_type": "code",
   "execution_count": 30,
   "metadata": {},
   "outputs": [],
   "source": [
    "encoded = encode(input)"
   ]
  },
  {
   "cell_type": "code",
   "execution_count": 31,
   "metadata": {
    "scrolled": true
   },
   "outputs": [
    {
     "data": {
      "text/plain": [
       "array([1, 1, 1, 1, 1, 1, -1, -1, -1, -1, -1, -1, -1, -1, -1, -1, -1, -1,\n",
       "       1, 1, 1, 1, 1, 1, 1, 1, 1, 1, 1, 1, 1, 1, 1, 1, 1, 1, 1, 1, 1, 1,\n",
       "       1, 1, -1, -1, -1, -1, -1, -1], dtype=object)"
      ]
     },
     "execution_count": 31,
     "metadata": {},
     "output_type": "execute_result"
    }
   ],
   "source": [
    "encoded"
   ]
  },
  {
   "cell_type": "code",
   "execution_count": 50,
   "metadata": {},
   "outputs": [
    {
     "name": "stdout",
     "output_type": "stream",
     "text": [
      "ERASED INDEX IS  2\n"
     ]
    }
   ],
   "source": [
    "encoded_loss = channel(encoded)"
   ]
  },
  {
   "cell_type": "code",
   "execution_count": 51,
   "metadata": {},
   "outputs": [
    {
     "data": {
      "text/plain": [
       "array([1.0878181579679411, 3.7425516243894585, 1.4435508965388257,\n",
       "       -1.7470074562080806, -4.235063152136654, 4.9281124867210035,\n",
       "       2.907786866291487, -3.9577478942203332, 0.6820585413558796,\n",
       "       -2.3820783571949997, -2.0241208423675836, -2.899222032575209,\n",
       "       2.3149263654100047, -6.069114561814974, 2.051842447614904,\n",
       "       -0.28051362226501575, -1.6985784542822937, -2.7754423682397062,\n",
       "       0.5427252282231689, -2.3115568097410546, -0.6784140504578867,\n",
       "       1.0042438661885635, 1.3233113125154958, -1.4390815110881896,\n",
       "       -1.8065456741660761, 1.5180241804618055, 6.35530508148671,\n",
       "       1.2788779929667315, 1.3304195292142262, -1.2808052105477472,\n",
       "       -2.5584389377749353, 2.0829011260797525, -0.8126112925273041,\n",
       "       1.3689044841341695, -3.6921991001611527, 0.28923184782704575,\n",
       "       -3.0362761759780366, 3.969089109432583, -1.061513422070684,\n",
       "       -3.5012293925075673, 2.0480871393613267, -1.8286588473922307,\n",
       "       -0.5903458028600257, 3.292130282510856, 3.1675379881507606,\n",
       "       6.6939764189498305, -0.580798091312869, 1.145738106718614],\n",
       "      dtype=object)"
      ]
     },
     "execution_count": 51,
     "metadata": {},
     "output_type": "execute_result"
    }
   ],
   "source": [
    "encoded_loss"
   ]
  },
  {
   "cell_type": "code",
   "execution_count": 52,
   "metadata": {},
   "outputs": [],
   "source": [
    "erasedIndex = predict_erased(encoded_loss)"
   ]
  },
  {
   "cell_type": "code",
   "execution_count": 53,
   "metadata": {},
   "outputs": [
    {
     "data": {
      "text/plain": [
       "2"
      ]
     },
     "execution_count": 53,
     "metadata": {},
     "output_type": "execute_result"
    }
   ],
   "source": [
    "erasedIndex"
   ]
  },
  {
   "cell_type": "code",
   "execution_count": 121,
   "metadata": {},
   "outputs": [],
   "source": [
    "arr =np.array([-1 for x in range(4)])"
   ]
  },
  {
   "cell_type": "code",
   "execution_count": 123,
   "metadata": {},
   "outputs": [
    {
     "data": {
      "text/plain": [
       "array([1, 1, 1, 1])"
      ]
     },
     "execution_count": 123,
     "metadata": {},
     "output_type": "execute_result"
    }
   ],
   "source": [
    "arr*arr"
   ]
  }
 ],
 "metadata": {
  "kernelspec": {
   "display_name": "Python 3",
   "language": "python",
   "name": "python3"
  },
  "language_info": {
   "codemirror_mode": {
    "name": "ipython",
    "version": 3
   },
   "file_extension": ".py",
   "mimetype": "text/x-python",
   "name": "python",
   "nbconvert_exporter": "python",
   "pygments_lexer": "ipython3",
   "version": "3.8.5"
  }
 },
 "nbformat": 4,
 "nbformat_minor": 4
}
