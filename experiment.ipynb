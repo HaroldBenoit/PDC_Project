{
 "cells": [
  {
   "cell_type": "code",
   "execution_count": 1,
   "metadata": {},
   "outputs": [],
   "source": [
    "import numpy as np"
   ]
  },
  {
   "cell_type": "code",
   "execution_count": 4,
   "metadata": {},
   "outputs": [],
   "source": [
    "def channel(chanInput):\n",
    "    chanInput = np.clip(chanInput,-1,1)\n",
    "    erasedIndex = np.random.randint(3)\n",
    "    chanInput[erasedIndex:len(chanInput):3] = 0\n",
    "    return chanInput + np.sqrt(10)*np.random.randn(len(chanInput))\n",
    "\n",
    "def easyChannel(chanInput):\n",
    "    chanInput = np.clip(chanInput,-1,1)\n",
    "    erasedIndex = np.random.randint(3)\n",
    "    chanInput[erasedIndex:len(chanInput):3] = 0\n",
    "    return chanInput\n",
    "    \n",
    "\n",
    "def create_code(i):\n",
    "    arr = np.zeros(256)\n",
    "    arr[i] = 1\n",
    "    return np.hstack((arr,arr))\n",
    "\n",
    "    \n",
    "def encode(input):\n",
    "    arr = np.array(bytearray(input, 'utf-8')).astype('int')\n",
    "    output = np.empty\n",
    "    for i in range(len(arr)):\n",
    "        output = np.hstack((output,create_code(i)))\n",
    "        \n",
    "    return output\n",
    "\n"
   ]
  },
  {
   "cell_type": "code",
   "execution_count": 49,
   "metadata": {},
   "outputs": [
    {
     "ename": "ValueError",
     "evalue": "byte must be in range(0, 256)",
     "output_type": "error",
     "traceback": [
      "\u001b[1;31m---------------------------------------------------------------------------\u001b[0m",
      "\u001b[1;31mValueError\u001b[0m                                Traceback (most recent call last)",
      "\u001b[1;32m<ipython-input-49-b9b96110059a>\u001b[0m in \u001b[0;36m<module>\u001b[1;34m\u001b[0m\n\u001b[1;32m----> 1\u001b[1;33m \u001b[0mbytearray\u001b[0m\u001b[1;33m(\u001b[0m\u001b[1;33m)\u001b[0m\u001b[1;33m.\u001b[0m\u001b[0mappend\u001b[0m\u001b[1;33m(\u001b[0m\u001b[1;36m257\u001b[0m\u001b[1;33m)\u001b[0m\u001b[1;33m\u001b[0m\u001b[1;33m\u001b[0m\u001b[0m\n\u001b[0m",
      "\u001b[1;31mValueError\u001b[0m: byte must be in range(0, 256)"
     ]
    }
   ],
   "source": [
    "bytearray().append(257)"
   ]
  },
  {
   "cell_type": "code",
   "execution_count": 108,
   "metadata": {},
   "outputs": [
    {
     "data": {
      "text/plain": [
       "array([-2.15576509, -2.05213713,  0.72147374, -0.47810265, -0.34656381,\n",
       "       -0.0570329 ,  7.11202744,  0.05845679,  0.46165574,  1.72149097])"
      ]
     },
     "execution_count": 108,
     "metadata": {},
     "output_type": "execute_result"
    }
   ],
   "source": [
    "np.sqrt(10)*np.random.randn(10)"
   ]
  },
  {
   "cell_type": "code",
   "execution_count": 100,
   "metadata": {
    "scrolled": true
   },
   "outputs": [],
   "source": [
    "def decode(input):\n",
    "    output = []\n",
    "    print(input.size)\n",
    "    \n",
    "    for i in range(0,input.size,512):\n",
    "        value=np.nonzero(input[i:i+512])[0][0]\n",
    "        \n",
    "        if value < 256:\n",
    "            print(value)\n",
    "            output.append(value)\n",
    "        else:\n",
    "            output.append(value-256)\n",
    "            \n",
    "    return str(bytearray(output),'utf-8')\n",
    "        "
   ]
  },
  {
   "cell_type": "code",
   "execution_count": 122,
   "metadata": {
    "scrolled": true
   },
   "outputs": [
    {
     "data": {
      "text/plain": [
       "2"
      ]
     },
     "execution_count": 122,
     "metadata": {},
     "output_type": "execute_result"
    }
   ],
   "source": [
    "169 >> 6 ## get first 2 bits"
   ]
  },
  {
   "cell_type": "code",
   "execution_count": 123,
   "metadata": {},
   "outputs": [
    {
     "data": {
      "text/plain": [
       "2"
      ]
     },
     "execution_count": 123,
     "metadata": {},
     "output_type": "execute_result"
    }
   ],
   "source": [
    "(169 & 48) >> 4 # get second 2 bits"
   ]
  },
  {
   "cell_type": "code",
   "execution_count": 124,
   "metadata": {},
   "outputs": [
    {
     "data": {
      "text/plain": [
       "2"
      ]
     },
     "execution_count": 124,
     "metadata": {},
     "output_type": "execute_result"
    }
   ],
   "source": [
    "(169 & 12) >> 2 "
   ]
  },
  {
   "cell_type": "code",
   "execution_count": 129,
   "metadata": {},
   "outputs": [
    {
     "data": {
      "text/plain": [
       "1"
      ]
     },
     "execution_count": 129,
     "metadata": {},
     "output_type": "execute_result"
    }
   ],
   "source": [
    "169 & 3"
   ]
  }
 ],
 "metadata": {
  "kernelspec": {
   "display_name": "Python 3",
   "language": "python",
   "name": "python3"
  },
  "language_info": {
   "codemirror_mode": {
    "name": "ipython",
    "version": 3
   },
   "file_extension": ".py",
   "mimetype": "text/x-python",
   "name": "python",
   "nbconvert_exporter": "python",
   "pygments_lexer": "ipython3",
   "version": "3.8.5"
  }
 },
 "nbformat": 4,
 "nbformat_minor": 4
}
