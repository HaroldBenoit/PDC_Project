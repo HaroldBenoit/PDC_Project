{
 "cells": [
  {
   "cell_type": "markdown",
   "metadata": {
    "collapsed": true,
    "pycharm": {
     "name": "#%% md\n"
    }
   },
   "source": [
    "# Principles of Digital Communication - Project\n",
    "_Harold Benoit, Tom Demont_\n",
    "\n",
    "_May 2021_"
   ]
  },
  {
   "cell_type": "code",
   "execution_count": 768,
   "outputs": [],
   "source": [
    "import random\n",
    "\n",
    "import numpy as np"
   ],
   "metadata": {
    "collapsed": false,
    "pycharm": {
     "name": "#%%\n"
    }
   }
  },
  {
   "cell_type": "markdown",
   "source": [
    "## 1. Text conversion from string to bits\n",
    "We will first create the utility methods for conversion from utf-8 text."
   ],
   "metadata": {
    "collapsed": false
   }
  },
  {
   "cell_type": "code",
   "execution_count": 769,
   "outputs": [],
   "source": [
    "def string_to_bitarray(string):\n",
    "    string_bytes = string.encode('utf-8')\n",
    "    bits = []\n",
    "    for b in string_bytes:\n",
    "        mask = 1\n",
    "        for i in range(7,-1,-1):\n",
    "            bits.append((b >> i)&mask)\n",
    "    return bits"
   ],
   "metadata": {
    "collapsed": false,
    "pycharm": {
     "name": "#%%\n"
    }
   }
  },
  {
   "cell_type": "code",
   "execution_count": 770,
   "outputs": [
    {
     "name": "stdout",
     "output_type": "stream",
     "text": [
      "[0, 1, 0, 0, 1, 0, 0, 0, 0, 1, 1, 0, 0, 1, 0, 1, 0, 1, 1, 0, 1, 1, 0, 0, 0, 1, 1, 0, 1, 1, 0, 0, 0, 1, 1, 0, 1, 1, 1, 1, 0, 0, 1, 0, 0, 0, 0, 0, 0, 1, 0, 1, 0, 1, 1, 1, 0, 1, 1, 0, 1, 1, 1, 1, 0, 1, 1, 1, 0, 0, 1, 0, 0, 1, 1, 0, 1, 1, 0, 0, 0, 1, 1, 0, 0, 1, 0, 0, 0, 0, 1, 0, 0, 0, 0, 0, 1, 1, 1, 1, 0, 0, 0, 0, 1, 0, 0, 1, 1, 1, 1, 1, 1, 0, 0, 1, 1, 0, 0, 0, 1, 0, 0, 0, 0, 0, 1, 1]\n"
     ]
    }
   ],
   "source": [
    "print(string_to_bitarray('Hello World 😃'))"
   ],
   "metadata": {
    "collapsed": false,
    "pycharm": {
     "name": "#%%\n"
    }
   }
  },
  {
   "cell_type": "code",
   "execution_count": 771,
   "outputs": [],
   "source": [
    "def bitarray_to_int(bitarray):\n",
    "    # the format for putting one bit in a string\n",
    "    string = \"{0:0\"+str(1)+\"b}\"\n",
    "    integer = ''\n",
    "    for bit in bitarray:\n",
    "        integer += string.format(bit)\n",
    "    return int(integer,2)"
   ],
   "metadata": {
    "collapsed": false,
    "pycharm": {
     "name": "#%%\n"
    }
   }
  },
  {
   "cell_type": "code",
   "execution_count": 772,
   "outputs": [
    {
     "name": "stdout",
     "output_type": "stream",
     "text": [
      "6\n"
     ]
    }
   ],
   "source": [
    "print(bitarray_to_int([1,1,0]))"
   ],
   "metadata": {
    "collapsed": false,
    "pycharm": {
     "name": "#%%\n"
    }
   }
  },
  {
   "cell_type": "code",
   "execution_count": 773,
   "outputs": [],
   "source": [
    "def bitarray_to_string(bitarray):\n",
    "    bytes = []\n",
    "    # the format for putting one bit in a string\n",
    "    string = \"{0:0\"+str(1)+\"b}\"\n",
    "\n",
    "    # go over all bytes given\n",
    "    for nb_bytes in range(0, len(bitarray)//8):\n",
    "        # recreates the byte from the bits\n",
    "        byte = ''\n",
    "        for bit in range(0,8):\n",
    "            byte += string.format(bitarray[nb_bytes*8+bit])\n",
    "        # adds the integer associated to the binary string in that byte (between 0 and 255)\n",
    "        bytes.append(int(byte,2))\n",
    "    return str(bytearray(bytes), 'utf-8')"
   ],
   "metadata": {
    "collapsed": false,
    "pycharm": {
     "name": "#%%\n"
    }
   }
  },
  {
   "cell_type": "markdown",
   "source": [
    "#### Testing our system\n",
    "We verify that transforming a string to a bit array back and forth works well:"
   ],
   "metadata": {
    "collapsed": false,
    "pycharm": {
     "name": "#%% md\n"
    }
   }
  },
  {
   "cell_type": "code",
   "execution_count": 774,
   "outputs": [
    {
     "data": {
      "text/plain": "'Hello World 😃'"
     },
     "execution_count": 774,
     "metadata": {},
     "output_type": "execute_result"
    }
   ],
   "source": [
    "bitarray_to_string(string_to_bitarray('Hello World 😃'))"
   ],
   "metadata": {
    "collapsed": false,
    "pycharm": {
     "name": "#%%\n"
    }
   }
  },
  {
   "cell_type": "markdown",
   "source": [
    "## 2. Recover from channel erasure\n",
    "To recover from channel erasure, we'll implement a **parity check**."
   ],
   "metadata": {
    "collapsed": false,
    "pycharm": {
     "name": "#%% md\n"
    }
   }
  },
  {
   "cell_type": "markdown",
   "source": [
    "### Encoding for channel erasure\n",
    "\n",
    "Per every 2 uses of the channel, we'll send a third parity check codeword. It is generated from applying xor operator\n",
    " on the 2 first encoded blocks bits and sending the associated codeword.\n",
    "\n",
    "For example, when $k=3$, suppose we want to send $001$ and $010$. $001$ is encoded by $c_1$ and $010$ is encoded by\n",
    "$c_2$. Our parity codeword will then be $001 \\oplus 010=011$, encoded by $c_3$."
   ],
   "metadata": {
    "collapsed": false,
    "pycharm": {
     "name": "#%% md\n"
    }
   }
  },
  {
   "cell_type": "code",
   "execution_count": 775,
   "outputs": [],
   "source": [
    "def compute_parity_check(bitarray_1, bitarray_2):\n",
    "    parity_check = []\n",
    "    for bit in range(0,len(bitarray_1)):\n",
    "        parity_check.append(bitarray_1[bit] ^ bitarray_2[bit])\n",
    "    return parity_check"
   ],
   "metadata": {
    "collapsed": false,
    "pycharm": {
     "name": "#%%\n"
    }
   }
  },
  {
   "cell_type": "code",
   "execution_count": 776,
   "outputs": [
    {
     "name": "stdout",
     "output_type": "stream",
     "text": [
      "Hello         [0, 1, 0, 0, 1, 0, 0, 0, 0, 1, 1, 0, 0, 1, 0, 1, 0, 1, 1, 0, 1, 1, 0, 0, 0, 1, 1, 0, 1, 1, 0, 0, 0, 1, 1, 0, 1, 1, 1, 1]\n",
      "World         [0, 1, 0, 1, 0, 1, 1, 1, 0, 1, 1, 0, 1, 1, 1, 1, 0, 1, 1, 1, 0, 0, 1, 0, 0, 1, 1, 0, 1, 1, 0, 0, 0, 1, 1, 0, 0, 1, 0, 0]\n",
      "Parity check  [0, 0, 0, 1, 1, 1, 1, 1, 0, 0, 0, 0, 1, 0, 1, 0, 0, 0, 0, 1, 1, 1, 1, 0, 0, 0, 0, 0, 0, 0, 0, 0, 0, 0, 0, 0, 1, 0, 1, 1]\n"
     ]
    }
   ],
   "source": [
    "print(\"Hello        \",string_to_bitarray('Hello'))\n",
    "print(\"World        \",string_to_bitarray('World'))\n",
    "print(\"Parity check \",compute_parity_check(string_to_bitarray('Hello'),string_to_bitarray('World')))"
   ],
   "metadata": {
    "collapsed": false,
    "pycharm": {
     "name": "#%%\n"
    }
   }
  },
  {
   "cell_type": "markdown",
   "source": [
    "Also, we'll interleave our codewords so that, erasing one channel symbol over 3 will in fact erase a full codeword.\n",
    "We'll recover this one with the parity check by inverting our xor operation.\n",
    "\n",
    "For example, if we want to send $c_1c_2c_3$, we'll send $c_{10}c_{20}c_{30}c_{11}c_{21}c_{31}...c_{1n}c_{2n}c_{3n}$"
   ],
   "metadata": {
    "collapsed": false,
    "pycharm": {
     "name": "#%% md\n"
    }
   },
   "outputs": [
    {
     "ename": "SyntaxError",
     "evalue": "EOL while scanning string literal (<ipython-input-1-72185e154f6b>, line 1)",
     "output_type": "error",
     "traceback": [
      "\u001B[0;36m  File \u001B[0;32m\"<ipython-input-1-72185e154f6b>\"\u001B[0;36m, line \u001B[0;32m1\u001B[0m\n\u001B[0;31m    Also, we'll interleave our codewords so that, erasing one channel symbol over 3 will in fact erase a full codeword.\u001B[0m\n\u001B[0m                                                                                                                       ^\u001B[0m\n\u001B[0;31mSyntaxError\u001B[0m\u001B[0;31m:\u001B[0m EOL while scanning string literal\n"
     ]
    }
   ],
   "execution_count": 1
  },
  {
   "cell_type": "code",
   "execution_count": 777,
   "outputs": [],
   "source": [
    "def interleave_codewords_to_send(codeword_1, codeword_2, parity_check_encoded):\n",
    "    codewords = np.array([codeword_1, codeword_2, parity_check_encoded])\n",
    "    return codewords.transpose().flatten()"
   ],
   "metadata": {
    "collapsed": false,
    "pycharm": {
     "name": "#%%\n"
    }
   }
  },
  {
   "cell_type": "code",
   "execution_count": 778,
   "outputs": [
    {
     "name": "stdout",
     "output_type": "stream",
     "text": [
      "[0 0 0 1 1 0 0 0 0 0 1 1 1 0 1 0 1 1 0 1 1 0 1 1 0 0 0 1 1 0 1 1 0 0 0 0 0\n",
      " 1 1 1 1 0 0 1 1 1 1 0 0 0 0 1 1 0 1 1 0 0 1 1 1 0 1 1 0 1 0 1 1 0 0 0 0 0\n",
      " 0 1 1 0 1 1 0 0 0 0 1 1 0 1 1 0 0 0 0 0 0 0 0 0 0 1 1 0 1 1 0 0 0 0 1 0 1\n",
      " 1 1 0 1 0 1 1 0 1]\n"
     ]
    }
   ],
   "source": [
    "# Tests interleaving 'Hello', 'World' and their parity check\n",
    "interleaved_hello_world = interleave_codewords_to_send(string_to_bitarray('Hello'), string_to_bitarray('World'),\n",
    "                                           compute_parity_check\n",
    "(string_to_bitarray('Hello'),string_to_bitarray('World')))\n",
    "print(interleaved_hello_world)"
   ],
   "metadata": {
    "collapsed": false,
    "pycharm": {
     "name": "#%%\n"
    }
   }
  },
  {
   "cell_type": "markdown",
   "source": [
    "### Making an erasing channel\n",
    "We build the channel that randomly removes $1/3$ of the coordinates given"
   ],
   "metadata": {
    "collapsed": false,
    "pycharm": {
     "name": "#%% md\n"
    }
   }
  },
  {
   "cell_type": "code",
   "execution_count": 779,
   "outputs": [],
   "source": [
    "# the channel input is the array of interleaved codewords and their parity check\n",
    "def erasing_channel(chan_input):\n",
    "    chan_input = np.clip(chan_input,-1,1)\n",
    "    erased_index = np.random.randint(3)\n",
    "    chan_input[erased_index:len(chan_input):3] = 0\n",
    "    return chan_input"
   ],
   "metadata": {
    "collapsed": false,
    "pycharm": {
     "name": "#%%\n"
    }
   }
  },
  {
   "cell_type": "markdown",
   "source": [
    "### Build a simple codewords book for erasure testing\n",
    "The codebook will be as follows: $0 \\to -1$ and $1 \\to 1$. This codebook is very simple, has $k=n=1$ and will just be\n",
    " useful for making our bitstring able to go through the erasing channel."
   ],
   "metadata": {
    "collapsed": false,
    "pycharm": {
     "name": "#%% md\n"
    }
   }
  },
  {
   "cell_type": "code",
   "execution_count": 780,
   "outputs": [],
   "source": [
    "def encode(bitarray):\n",
    "    encoded = []\n",
    "    for bit in bitarray:\n",
    "        if bit == 0:\n",
    "            encoded.append(-1)\n",
    "        elif bit == 1:\n",
    "            encoded.append(1)\n",
    "        else:\n",
    "            print(\"bit array should only contain 0 or 1\")\n",
    "            return\n",
    "    return encoded"
   ],
   "metadata": {
    "collapsed": false,
    "pycharm": {
     "name": "#%%\n"
    }
   }
  },
  {
   "cell_type": "code",
   "execution_count": 781,
   "outputs": [
    {
     "name": "stdout",
     "output_type": "stream",
     "text": [
      "Hello binary:   [0, 1, 0, 0, 1, 0, 0, 0, 0, 1, 1, 0, 0, 1, 0, 1, 0, 1, 1, 0, 1, 1, 0, 0, 0, 1, 1, 0, 1, 1, 0, 0, 0, 1, 1, 0, 1, 1, 1, 1]\n",
      "Hello encoded:  [-1, 1, -1, -1, 1, -1, -1, -1, -1, 1, 1, -1, -1, 1, -1, 1, -1, 1, 1, -1, 1, 1, -1, -1, -1, 1, 1, -1, 1, 1, -1, -1, -1, 1, 1, -1, 1, 1, 1, 1]\n"
     ]
    }
   ],
   "source": [
    "print(\"Hello binary:  \",string_to_bitarray('Hello'))\n",
    "print(\"Hello encoded: \",encode(string_to_bitarray('Hello')))"
   ],
   "metadata": {
    "collapsed": false,
    "pycharm": {
     "name": "#%%\n"
    }
   }
  },
  {
   "cell_type": "markdown",
   "source": [
    "### Decoding procedure\n",
    "We'll :\n",
    "1. Uninterleave the received array to retrieve what should be associated to each codeword\n",
    "2. Find the codeword that was erased by looking for a $[0,...,0]$ array\n",
    "3. Decode the codewords that was correctly sent\n",
    "  * If the erased codeword is the third one, it means that only the parity check was affected which is not a problem,\n",
    "   we just return the decoded bits from both first codewords\n",
    "   * If the erased codeword is one of both first, we apply $\\oplus$ on both correctly decoded bits to retrieve the\n",
    "   erased\n",
    "    one thanks to the parity check"
   ],
   "metadata": {
    "collapsed": false,
    "pycharm": {
     "name": "#%% md\n"
    }
   }
  },
  {
   "cell_type": "code",
   "execution_count": 782,
   "outputs": [],
   "source": [
    "# the triplet contains 2 codewords encoding k bits and the codeword encoding the parity check bits\n",
    "def uninterleave_codewords_received(three_codewords):\n",
    "    # we create chunks of size 3, the interleaved codewords matrix (shape (n,3))\n",
    "    codewords_triplet = np.array_split(np.array(three_codewords), len(three_codewords)//3)\n",
    "\n",
    "    # we transpose it to retrieve the aligned codewords in order\n",
    "    codewords = np.array(codewords_triplet).transpose().flatten()\n",
    "    return (codewords)"
   ],
   "metadata": {
    "collapsed": false,
    "pycharm": {
     "name": "#%%\n"
    }
   }
  },
  {
   "cell_type": "code",
   "execution_count": 783,
   "outputs": [],
   "source": [
    "# gives both correctly decoded codewords and the value of H observed (the modulus class of erased coordinate)\n",
    "def decode_output_retrieve_erased(uninterleaved_three_codewords):\n",
    "    decoded = []\n",
    "    erased = -1\n",
    "    n = len(uninterleaved_three_codewords)//3\n",
    "\n",
    "    # classic decoding from our codebook\n",
    "    for i,symbol in enumerate(uninterleaved_three_codewords):\n",
    "        if symbol == 1:\n",
    "            decoded.append(1)\n",
    "        elif symbol == -1:\n",
    "            decoded.append(0)\n",
    "        elif symbol == 0:\n",
    "            # this one was erased\n",
    "            erased = (i//n)%3\n",
    "        else:\n",
    "            print(\"Error: symbols cannot be other than 0 and ±1\")\n",
    "            return\n",
    "    return decoded,erased"
   ],
   "metadata": {
    "collapsed": false,
    "pycharm": {
     "name": "#%%\n"
    }
   }
  },
  {
   "cell_type": "code",
   "execution_count": 784,
   "outputs": [],
   "source": [
    "# decoded contains both correctly decoded codewords (can be information codeword and parity or 2 information codewords)\n",
    "# the parity codeword (present if erased != 2) is in the last half of the decoded bit array\n",
    "def restore_erased(decoded, erased):\n",
    "    if erased != 2:\n",
    "        # an information codeword was erased\n",
    "        restored = []\n",
    "        n = len(decoded)//2\n",
    "        for i in range(n):\n",
    "            # we recompute the erased one by binary one time padding\n",
    "            restored.append(decoded[i]^decoded[n+i])\n",
    "        if erased == 0:\n",
    "            # the first codeword was erased\n",
    "            return np.array([restored,decoded[0:len(decoded)//2]]).flatten()\n",
    "        elif erased == 1:\n",
    "            # the second codeword was erased\n",
    "            return np.array([decoded[0:len(decoded)//2],restored]).flatten()\n",
    "    else:\n",
    "        # the parity check codeword was erased\n",
    "        return decoded"
   ],
   "metadata": {
    "collapsed": false,
    "pycharm": {
     "name": "#%%\n"
    }
   }
  },
  {
   "cell_type": "markdown",
   "source": [
    "#### Testing our system\n",
    "We now try to send \"HelloWorld\" message over the erasing channel and try to restore it:"
   ],
   "metadata": {
    "collapsed": false,
    "pycharm": {
     "name": "#%% md\n"
    }
   }
  },
  {
   "cell_type": "code",
   "execution_count": 785,
   "outputs": [
    {
     "name": "stdout",
     "output_type": "stream",
     "text": [
      "Channel input:     [-1, -1, -1, 1, 1, -1, -1, -1, -1, -1, 1, 1, 1, -1, 1, -1, 1, 1, -1, 1, 1, -1, 1, 1, -1, -1, -1, 1, 1, -1, 1, 1, -1, -1, -1, -1, -1, 1, 1, 1, 1, -1, -1, 1, 1, 1, 1, -1, -1, -1, -1, 1, 1, -1, 1, 1, -1, -1, 1, 1, 1, -1, 1, 1, -1, 1, -1, 1, 1, -1, -1, -1, -1, -1, -1, 1, 1, -1, 1, 1, -1, -1, -1, -1, 1, 1, -1, 1, 1, -1, -1, -1, -1, -1, -1, -1, -1, -1, -1, 1, 1, -1, 1, 1, -1, -1, -1, -1, 1, -1, 1, 1, 1, -1, 1, -1, 1, 1, -1, 1]\n",
      "Channel output:    [-1, 0, -1, 1, 0, -1, -1, 0, -1, -1, 0, 1, 1, 0, 1, -1, 0, 1, -1, 0, 1, -1, 0, 1, -1, 0, -1, 1, 0, -1, 1, 0, -1, -1, 0, -1, -1, 0, 1, 1, 0, -1, -1, 0, 1, 1, 0, -1, -1, 0, -1, 1, 0, -1, 1, 0, -1, -1, 0, 1, 1, 0, 1, 1, 0, 1, -1, 0, 1, -1, 0, -1, -1, 0, -1, 1, 0, -1, 1, 0, -1, -1, 0, -1, 1, 0, -1, 1, 0, -1, -1, 0, -1, -1, 0, -1, -1, 0, -1, 1, 0, -1, 1, 0, -1, -1, 0, -1, 1, 0, 1, 1, 0, -1, 1, 0, 1, 1, 0, 1]\n",
      "\n",
      "Uninterleaved in:  [-1, 1, -1, -1, 1, -1, -1, -1, -1, 1, 1, -1, -1, 1, -1, 1, -1, 1, 1, -1, 1, 1, -1, -1, -1, 1, 1, -1, 1, 1, -1, -1, -1, 1, 1, -1, 1, 1, 1, 1, -1, 1, -1, 1, -1, 1, 1, 1, -1, 1, 1, -1, 1, 1, 1, 1, -1, 1, 1, 1, -1, -1, 1, -1, -1, 1, 1, -1, 1, 1, -1, -1, -1, 1, 1, -1, -1, 1, -1, -1, -1, -1, -1, 1, 1, 1, 1, 1, -1, -1, -1, -1, 1, -1, 1, -1, -1, -1, -1, 1, 1, 1, 1, -1, -1, -1, -1, -1, -1, -1, -1, -1, -1, -1, -1, -1, 1, -1, 1, 1]\n",
      "Uninterleaved out: [-1, 1, -1, -1, 1, -1, -1, -1, -1, 1, 1, -1, -1, 1, -1, 1, -1, 1, 1, -1, 1, 1, -1, -1, -1, 1, 1, -1, 1, 1, -1, -1, -1, 1, 1, -1, 1, 1, 1, 1, 0, 0, 0, 0, 0, 0, 0, 0, 0, 0, 0, 0, 0, 0, 0, 0, 0, 0, 0, 0, 0, 0, 0, 0, 0, 0, 0, 0, 0, 0, 0, 0, 0, 0, 0, 0, 0, 0, 0, 0, -1, -1, -1, 1, 1, 1, 1, 1, -1, -1, -1, -1, 1, -1, 1, -1, -1, -1, -1, 1, 1, 1, 1, -1, -1, -1, -1, -1, -1, -1, -1, -1, -1, -1, -1, -1, 1, -1, 1, 1]\n",
      "\n",
      "Decoded output:    [0, 1, 0, 0, 1, 0, 0, 0, 0, 1, 1, 0, 0, 1, 0, 1, 0, 1, 1, 0, 1, 1, 0, 0, 0, 1, 1, 0, 1, 1, 0, 0, 0, 1, 1, 0, 1, 1, 1, 1, 0, 0, 0, 1, 1, 1, 1, 1, 0, 0, 0, 0, 1, 0, 1, 0, 0, 0, 0, 1, 1, 1, 1, 0, 0, 0, 0, 0, 0, 0, 0, 0, 0, 0, 0, 0, 1, 0, 1, 1]\n",
      "Erased codeword:   1 [3]\n",
      "\n",
      "Sent:              [0, 1, 0, 0, 1, 0, 0, 0, 0, 1, 1, 0, 0, 1, 0, 1, 0, 1, 1, 0, 1, 1, 0, 0, 0, 1, 1, 0, 1, 1, 0, 0, 0, 1, 1, 0, 1, 1, 1, 1, 0, 1, 0, 1, 0, 1, 1, 1, 0, 1, 1, 0, 1, 1, 1, 1, 0, 1, 1, 1, 0, 0, 1, 0, 0, 1, 1, 0, 1, 1, 0, 0, 0, 1, 1, 0, 0, 1, 0, 0]\n",
      "Restored:          [0, 1, 0, 0, 1, 0, 0, 0, 0, 1, 1, 0, 0, 1, 0, 1, 0, 1, 1, 0, 1, 1, 0, 0, 0, 1, 1, 0, 1, 1, 0, 0, 0, 1, 1, 0, 1, 1, 1, 1, 0, 1, 0, 1, 0, 1, 1, 1, 0, 1, 1, 0, 1, 1, 1, 1, 0, 1, 1, 1, 0, 0, 1, 0, 0, 1, 1, 0, 1, 1, 0, 0, 0, 1, 1, 0, 0, 1, 0, 0]\n",
      "Restored string:   HelloWorld\n"
     ]
    }
   ],
   "source": [
    "channel_input = encode(interleaved_hello_world)\n",
    "print(\"Channel input:    \", channel_input)\n",
    "channel_output = erasing_channel(channel_input)\n",
    "print(\"Channel output:   \", list(channel_output))\n",
    "\n",
    "print()\n",
    "\n",
    "uninterleaved_input = encode(np.array([string_to_bitarray('Hello'), string_to_bitarray('World'),compute_parity_check\n",
    "(string_to_bitarray('Hello'),string_to_bitarray('World'))]).flatten())\n",
    "print(\"Uninterleaved in: \", list(uninterleaved_input))\n",
    "uninterleaved_output = uninterleave_codewords_received(channel_output)\n",
    "print(\"Uninterleaved out:\", list(uninterleaved_output))\n",
    "\n",
    "print()\n",
    "\n",
    "decoded_output, erased_codewords = decode_output_retrieve_erased(uninterleaved_output)\n",
    "print(\"Decoded output:   \",decoded_output)\n",
    "print(\"Erased codeword:  \",erased_codewords,\"[3]\")\n",
    "\n",
    "print()\n",
    "\n",
    "sent = np.array([string_to_bitarray('Hello'), string_to_bitarray('World')]).flatten()\n",
    "print(\"Sent:             \",list(sent))\n",
    "restored = restore_erased(decoded_output, erased_codewords)\n",
    "print(\"Restored:         \",list(restored))\n",
    "print(\"Restored string:  \",bitarray_to_string(restored))"
   ],
   "metadata": {
    "collapsed": false,
    "pycharm": {
     "name": "#%%\n"
    }
   }
  },
  {
   "cell_type": "markdown",
   "source": [
    "## 3. Recovering from noise\n",
    "The problem states that each received symbol $Y_i=\\tilde{X}_i+Z_i$ where $\\tilde{X}_i$ is the symbol after passing\n",
    "the **erasing channel** and $Z_i\\sim \\mathcal{N}(0,10)$ is the added **White Gaussian Noise**.\n",
    "To deal with the erasures, we'll apply the same procedure as above (that works fine also on other codebooks).\n",
    "However, the white noise need to be tackled smartly considering its high variance, and the low energy of channel input.\n",
    "\n",
    "To do so, we choose as our codebook the **Orthogonal Code $C_k$** which has a high distance between codewords for\n",
    "reasonable amount of energy and is pretty simple to generate.\n",
    "\n",
    "We recall the recursive $C_k$ definition:\n",
    "* $C_0=\\{1\\}$\n",
    "* $C_{k+1}=C_k'$ where $C_k'$ is such that for every $c\\in C_k$, $(c,c)$ and $(c,-c) \\in C_k'$\n",
    "* e.g.: $C_1=\\{(1,1),(1,-1)\\}$, $C_2=\\{(1,1,1,1),(1,1,-1,-1),(1,-1,1,-1),(1,-1,-1,1)\\}$ ..."
   ],
   "metadata": {
    "collapsed": false,
    "pycharm": {
     "name": "#%% md\n"
    }
   }
  },
  {
   "cell_type": "code",
   "execution_count": 786,
   "outputs": [],
   "source": [
    "def create_c_k(k):\n",
    "    c_0 = 1\n",
    "    c_k = [c_0]\n",
    "    for i in range(1,k+1):\n",
    "        c_k_1 = []\n",
    "        for codeword in c_k:\n",
    "            c_c = np.array([[codeword, codeword]]).flatten()\n",
    "            c_min_c = np.array([[codeword, -1*codeword]]).flatten()\n",
    "            c_k_1.append(c_c)\n",
    "            c_k_1.append(c_min_c)\n",
    "        c_k = c_k_1.copy()\n",
    "    return np.array(c_k)"
   ],
   "metadata": {
    "collapsed": false,
    "pycharm": {
     "name": "#%%\n"
    }
   }
  },
  {
   "cell_type": "code",
   "execution_count": 787,
   "outputs": [
    {
     "name": "stdout",
     "output_type": "stream",
     "text": [
      "[[ 1  1  1  1]\n",
      " [ 1  1 -1 -1]\n",
      " [ 1 -1  1 -1]\n",
      " [ 1 -1 -1  1]]\n"
     ]
    }
   ],
   "source": [
    "# we verify if c_2 was correctly computed\n",
    "print(create_c_k(2))"
   ],
   "metadata": {
    "collapsed": false,
    "pycharm": {
     "name": "#%%\n"
    }
   }
  },
  {
   "cell_type": "markdown",
   "source": [
    "### Combine parity check and orthogonal coding\n",
    "We now can create codewords associated to each k-plet of bits. Let's implement the encodng of a bitarray for a\n",
    "parametrized value of k"
   ],
   "metadata": {
    "collapsed": false,
    "pycharm": {
     "name": "#%% md\n"
    }
   }
  },
  {
   "cell_type": "code",
   "execution_count": 788,
   "outputs": [],
   "source": [
    "# Encodes both arrays of k bits with the orthogonal code and return encoded 2k bits and their k parity check bits\n",
    "# encoded in 3 codewords\n",
    "def encode_ortho(bitarray_1, bitarray_2):\n",
    "    k = len(bitarray_1)\n",
    "    if len(bitarray_1)!=len(bitarray_2):\n",
    "        print(\"Error, both encoded bitarrays should have same length (length k)\")\n",
    "        return\n",
    "    # creates the indexes of those k bits (and their pcheck) in the codebook\n",
    "    codeword_1_index = bitarray_to_int(bitarray_1)\n",
    "    codeword_2_index = bitarray_to_int(bitarray_2)\n",
    "    parity_check = compute_parity_check(bitarray_1, bitarray_2)\n",
    "    codeword_check_index = bitarray_to_int(parity_check)\n",
    "\n",
    "    codebook = create_c_k(k)\n",
    "\n",
    "    return codebook[codeword_1_index],codebook[codeword_2_index],codebook[codeword_check_index]"
   ],
   "metadata": {
    "collapsed": false,
    "pycharm": {
     "name": "#%%\n"
    }
   }
  },
  {
   "cell_type": "markdown",
   "source": [
    "We try to encode the $10$ and $01$ bits pairs. We then have $k=2$ and use $C_2$. Their parity check bits are $11$. We\n",
    " should then have the codewords $3$, $2$ and $4$ of $C_2$"
   ],
   "metadata": {
    "collapsed": false,
    "pycharm": {
     "name": "#%% md\n"
    }
   }
  },
  {
   "cell_type": "code",
   "execution_count": 789,
   "outputs": [
    {
     "name": "stdout",
     "output_type": "stream",
     "text": [
      "[1, -1, 1, -1]\n",
      "[1, 1, -1, -1]\n",
      "[1, -1, -1, 1]\n"
     ]
    }
   ],
   "source": [
    "for cw in encode_ortho([1,0],[0,1]):\n",
    "    print(list(cw))"
   ],
   "metadata": {
    "collapsed": false,
    "pycharm": {
     "name": "#%%\n"
    }
   }
  },
  {
   "cell_type": "markdown",
   "source": [
    "### Simulate the erasing noisy channel\n",
    "We create the channel that outputs $Y_i$. For testing purposes, we make it return the realization of the erased symbol"
   ],
   "metadata": {
    "collapsed": false,
    "pycharm": {
     "name": "#%% md\n"
    }
   }
  },
  {
   "cell_type": "code",
   "execution_count": 790,
   "outputs": [],
   "source": [
    "def noisy_erasing_channel(chan_input):\n",
    "    chan_input = np.clip(chan_input,-1,1)\n",
    "    erased_index = np.random.randint(3)\n",
    "    chan_input[erased_index:len(chan_input):3] = 0\n",
    "    return chan_input + np.sqrt(10)*np.random.randn(len(chan_input)), erased_index"
   ],
   "metadata": {
    "collapsed": false,
    "pycharm": {
     "name": "#%%\n"
    }
   }
  },
  {
   "cell_type": "markdown",
   "source": [
    "### Decoding procedure\n",
    "The decoding will happen following:\n",
    "1. We uninterleave the received symbols\n",
    "2. We compute the empirical mean of each codewords classes (the codewords placed $0^{th}[3]$, $1^{st}[3]$ and\n",
    "$2^{nd}[3]$ in the codewords sequence)\n",
    "    * The mean closest to 0 represents the class of erased codewords\n",
    "3. For the unerased (but noisy) channel outputs, we compute their scalar product with every codeword of $C_k$\n",
    "    * The highest product is the one with the most similar codewords, we interpret the noisy channel output as being\n",
    "    this symbol\n",
    "4. We decode the decided codewords and use them to compute (with parity check) the erased codeword\n",
    "\n",
    "#### Finding the erased coordinate"
   ],
   "metadata": {
    "collapsed": false,
    "pycharm": {
     "name": "#%% md\n"
    }
   }
  },
  {
   "cell_type": "code",
   "execution_count": 791,
   "outputs": [],
   "source": [
    "def find_erased_noisy(uninterleaved_chan_output, k):\n",
    "    n = 2**k\n",
    "    # We divide out output in arrays of length n (each represent a codeword)\n",
    "    output_symbols = np.array_split(np.array(uninterleaved_chan_output), len(uninterleaved_chan_output)//n)\n",
    "\n",
    "    mean_0 = mean_1 = mean_2 = 0.\n",
    "    for i,codeword in enumerate(output_symbols):\n",
    "        # we are interested in computing the distance from 0 to mean\n",
    "        # we have to sum the squared output symbols\n",
    "        # (as codewords input have zero mean w/out absolute distance computation)\n",
    "        if i%3 == 0:\n",
    "            mean_0 += np.sum(codeword**2)\n",
    "        if i%3 == 1:\n",
    "            mean_1 += np.sum(codeword**2)\n",
    "        if i%3 == 2:\n",
    "            mean_2 += np.sum(codeword**2)\n",
    "\n",
    "    # As all means should be computed by dividing by the same number, we don't make that extra computation that does\n",
    "    # not changes the order\n",
    "    if abs(mean_0) < abs(mean_1) and abs(mean_0) < abs(mean_2):\n",
    "        return 0\n",
    "    if abs(mean_1) < abs(mean_0) and abs(mean_1) < abs(mean_2):\n",
    "        return 1\n",
    "    if abs(mean_2) < abs(mean_1) and abs(mean_2) < abs(mean_0):\n",
    "        return 2\n",
    "    return np.random.randint(3)"
   ],
   "metadata": {
    "collapsed": false,
    "pycharm": {
     "name": "#%%\n"
    }
   }
  },
  {
   "cell_type": "markdown",
   "source": [
    "We try to find the erased codeword when noise is added. We'll again use $C_2$ codebook for testing:"
   ],
   "metadata": {
    "collapsed": false,
    "pycharm": {
     "name": "#%% md\n"
    }
   }
  },
  {
   "cell_type": "code",
   "execution_count": 792,
   "outputs": [
    {
     "name": "stdout",
     "output_type": "stream",
     "text": [
      "Codeword 1:      [1, -1, 1, -1]\n",
      "Codeword 2:      [1, 1, -1, -1]\n",
      "Codeword 3:      [1, -1, -1, 1]\n",
      "Uninterleaved:   [ 2.78821879 -7.06091086  2.86357522  1.30166846 -1.14177039  5.53459122\n",
      "  3.12911533 -0.09558056 -2.66691314 -1.34220512 -6.36761939  2.52022946]\n",
      "Erased predict:  1\n",
      "Erased real:     1\n"
     ]
    }
   ],
   "source": [
    "cw_1, cw_2, cw_3 = encode_ortho([1,0],[0,1])\n",
    "print(\"Codeword 1:     \",list(cw_1))\n",
    "print(\"Codeword 2:     \",list(cw_2))\n",
    "print(\"Codeword 3:     \",list(cw_3))\n",
    "interleaved_C2 = interleave_codewords_to_send(cw_1, cw_2, cw_3)\n",
    "\n",
    "chan_output_1, erased_index = noisy_erasing_channel(interleaved_C2)\n",
    "\n",
    "uninterleaved_C2 = uninterleave_codewords_received(chan_output_1)\n",
    "print(\"Uninterleaved:  \",uninterleaved_C2)\n",
    "\n",
    "erased_found = find_erased_noisy(uninterleaved_C2, 2)\n",
    "print(\"Erased predict: \",erased_found)\n",
    "print(\"Erased real:    \",erased_index)"
   ],
   "metadata": {
    "collapsed": false,
    "pycharm": {
     "name": "#%%\n"
    }
   }
  },
  {
   "cell_type": "markdown",
   "source": [
    "We see that the prediction is pretty bad. Indeed, this method relies on the fact that a huge number of realizations\n",
    "will reveal the global mean.\n",
    "\n",
    "12 channel outputs is not enough to approximate the mean.\n",
    "\n",
    "We try to send more codewords through our channel:"
   ],
   "metadata": {
    "collapsed": false,
    "pycharm": {
     "name": "#%% md\n"
    }
   }
  },
  {
   "cell_type": "code",
   "execution_count": 793,
   "outputs": [],
   "source": [
    "# defines a sending/receiving protocol and outputs the erased prediction and real values\n",
    "def test_erasure_recovery(nb_triplets_to_send):\n",
    "    interleaved_to_send = []\n",
    "    for i in range(nb_triplets_to_send):\n",
    "        cw_1, cw_2, cw_3 = encode_ortho([i%2,(i+1)%2],[(i+1)%2,i%2])\n",
    "        interleaved_to_send.append(interleave_codewords_to_send(cw_1, cw_2, cw_3))\n",
    "    interleaved_to_send = np.array(interleaved_to_send).flatten()\n",
    "\n",
    "    chan_output_2, erased_real = noisy_erasing_channel(interleaved_to_send)\n",
    "\n",
    "    uninterleaved_received = []\n",
    "    # we split back our array in triplets_to_send (which makes it contains codewords triplets at each element)\n",
    "    output_triplets = np.array_split(np.array(chan_output_2),nb_triplets_to_send)\n",
    "    for triplet in output_triplets:\n",
    "        uninterleaved_received.append(uninterleave_codewords_received(triplet))\n",
    "    uninterleaved_received = np.array(uninterleaved_received).flatten()\n",
    "\n",
    "    erased_found = find_erased_noisy(uninterleaved_received, 2)\n",
    "\n",
    "    return erased_found,erased_real"
   ],
   "metadata": {
    "collapsed": false,
    "pycharm": {
     "name": "#%%\n"
    }
   }
  },
  {
   "cell_type": "code",
   "execution_count": 794,
   "outputs": [
    {
     "name": "stdout",
     "output_type": "stream",
     "text": [
      "Correctness ratio:  1.0\n"
     ]
    }
   ],
   "source": [
    "nb_success=nb_fails=0\n",
    "\n",
    "for test in range(100):\n",
    "    erased_found_t,erased_real_t = test_erasure_recovery(1000)\n",
    "    if erased_found_t == erased_real_t: nb_success+=1\n",
    "    else: nb_fails+=1\n",
    "\n",
    "print(\"Correctness ratio: \",nb_success/(nb_success+nb_fails))"
   ],
   "metadata": {
    "collapsed": false,
    "pycharm": {
     "name": "#%%\n"
    }
   }
  },
  {
   "cell_type": "markdown",
   "source": [
    "We finally observe that, using the channel for 3000 informations+parity check bits, we discover the erased coordinate\n",
    " with very high probability."
   ],
   "metadata": {
    "collapsed": false,
    "pycharm": {
     "name": "#%% md\n"
    }
   }
  },
  {
   "cell_type": "markdown",
   "source": [
    "#### Denoising the information codewords"
   ],
   "metadata": {
    "collapsed": false,
    "pycharm": {
     "name": "#%% md\n"
    }
   },
   "execution_count": 795
  }
 ],
 "metadata": {
  "kernelspec": {
   "display_name": "Python 3",
   "language": "python",
   "name": "python3"
  },
  "language_info": {
   "codemirror_mode": {
    "name": "ipython",
    "version": 2
   },
   "file_extension": ".py",
   "mimetype": "text/x-python",
   "name": "python",
   "nbconvert_exporter": "python",
   "pygments_lexer": "ipython2",
   "version": "2.7.6"
  }
 },
 "nbformat": 4,
 "nbformat_minor": 0
}