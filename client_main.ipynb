{
 "cells": [
  {
   "cell_type": "markdown",
   "metadata": {
    "collapsed": true,
    "pycharm": {
     "name": "#%% md\n"
    }
   },
   "source": [
    "# Principles of Digital Communication - Project\n",
    "_Harold Benoit, Tom Demont_\n",
    "\n",
    "_May 2021_"
   ]
  },
  {
   "cell_type": "code",
   "execution_count": 1,
   "metadata": {
    "pycharm": {
     "name": "#%%\n"
    }
   },
   "outputs": [],
   "source": [
    "import random\n",
    "\n",
    "import numpy as np"
   ]
  },
  {
   "cell_type": "markdown",
   "metadata": {},
   "source": [
    "## 1. Text conversion from string to bits\n",
    "We will first create the utility methods for conversion from and to int, bitarrays and utf-8 text.\n"
   ]
  },
  {
   "cell_type": "code",
   "execution_count": 2,
   "metadata": {
    "pycharm": {
     "name": "#%%\n"
    }
   },
   "outputs": [],
   "source": [
    "def bitarray_to_int(bitarray):\n",
    "    # the format for putting one bit in a string\n",
    "    string = \"{0:0\" + str(1) + \"b}\"\n",
    "    integer = ''\n",
    "    for bit in bitarray:\n",
    "        integer += string.format(bit)\n",
    "    return int(integer, 2)"
   ]
  },
  {
   "cell_type": "code",
   "execution_count": 3,
   "metadata": {
    "pycharm": {
     "name": "#%%\n"
    }
   },
   "outputs": [
    {
     "name": "stdout",
     "output_type": "stream",
     "text": [
      "6\n"
     ]
    }
   ],
   "source": [
    "print(bitarray_to_int([1, 1, 0]))"
   ]
  },
  {
   "cell_type": "code",
   "execution_count": 4,
   "metadata": {
    "pycharm": {
     "name": "#%%\n"
    }
   },
   "outputs": [],
   "source": [
    "def int_to_bitarray(integer, nb_bits):\n",
    "    bitarray = []\n",
    "    for i in range(nb_bits - 1, -1, -1):\n",
    "        bitarray.append((integer >> i) & 1)\n",
    "    return np.array(bitarray)"
   ]
  },
  {
   "cell_type": "code",
   "execution_count": 5,
   "metadata": {
    "pycharm": {
     "name": "#%%\n"
    }
   },
   "outputs": [
    {
     "name": "stdout",
     "output_type": "stream",
     "text": [
      "[1 1 0]\n"
     ]
    }
   ],
   "source": [
    "print(int_to_bitarray(6, 3))"
   ]
  },
  {
   "cell_type": "code",
   "execution_count": 6,
   "metadata": {
    "pycharm": {
     "name": "#%%\n"
    }
   },
   "outputs": [],
   "source": [
    "def string_to_bitarray(string):\n",
    "    string_bytes = string.encode('utf-8')\n",
    "    bits = []\n",
    "    for b in string_bytes:\n",
    "        mask = 1\n",
    "        for i in range(7, -1, -1):\n",
    "            bits.append((b >> i) & mask)\n",
    "    return bits"
   ]
  },
  {
   "cell_type": "code",
   "execution_count": 7,
   "metadata": {
    "pycharm": {
     "name": "#%%\n"
    }
   },
   "outputs": [
    {
     "name": "stdout",
     "output_type": "stream",
     "text": [
      "[0, 1, 0, 0, 1, 0, 0, 0, 0, 1, 1, 0, 0, 1, 0, 1, 0, 1, 1, 0, 1, 1, 0, 0, 0, 1, 1, 0, 1, 1, 0, 0, 0, 1, 1, 0, 1, 1, 1, 1, 0, 0, 1, 0, 0, 0, 0, 0, 0, 1, 0, 1, 0, 1, 1, 1, 0, 1, 1, 0, 1, 1, 1, 1, 0, 1, 1, 1, 0, 0, 1, 0, 0, 1, 1, 0, 1, 1, 0, 0, 0, 1, 1, 0, 0, 1, 0, 0, 0, 0, 1, 0, 0, 0, 0, 0, 1, 1, 1, 1, 0, 0, 0, 0, 1, 0, 0, 1, 1, 1, 1, 1, 1, 0, 0, 1, 1, 0, 0, 0, 1, 0, 0, 0, 0, 0, 1, 1]\n"
     ]
    }
   ],
   "source": [
    "print(string_to_bitarray('Hello World 😃'))"
   ]
  },
  {
   "cell_type": "code",
   "execution_count": 8,
   "metadata": {
    "pycharm": {
     "name": "#%%\n"
    }
   },
   "outputs": [],
   "source": [
    "def bitarray_to_string(bitarray):\n",
    "    bytes = []\n",
    "    # the format for putting one bit in a string\n",
    "    string = \"{0:0\" + str(1) + \"b}\"\n",
    "\n",
    "    # go over all bytes given\n",
    "    for nb_bytes in range(0, len(bitarray) // 8):\n",
    "        # recreates the byte from the bits\n",
    "        byte = ''\n",
    "        for bit in range(0, 8):\n",
    "            byte += string.format(bitarray[nb_bytes * 8 + bit])\n",
    "        # adds the integer associated to the binary string in that byte (between 0 and 255)\n",
    "        bytes.append(int(byte, 2))\n",
    "\n",
    "    try:\n",
    "        return_string = str(bytearray(bytes), 'utf-8')\n",
    "    except:\n",
    "        return ''\n",
    "    else:\n",
    "        return return_string"
   ]
  },
  {
   "cell_type": "markdown",
   "metadata": {
    "pycharm": {
     "name": "#%% md\n"
    }
   },
   "source": [
    "#### Testing our system\n",
    "We verify that transforming a string to a bit array back and forth works well:"
   ]
  },
  {
   "cell_type": "code",
   "execution_count": 9,
   "metadata": {
    "pycharm": {
     "name": "#%%\n"
    }
   },
   "outputs": [
    {
     "data": {
      "text/plain": [
       "'Hello World 😃'"
      ]
     },
     "execution_count": 9,
     "metadata": {},
     "output_type": "execute_result"
    }
   ],
   "source": [
    "bitarray_to_string(string_to_bitarray('Hello World 😃'))"
   ]
  },
  {
   "cell_type": "markdown",
   "metadata": {
    "pycharm": {
     "name": "#%% md\n"
    }
   },
   "source": [
    "## 2. Recover from channel erasure\n",
    "To recover from channel erasure, we'll implement a **parity check**."
   ]
  },
  {
   "cell_type": "markdown",
   "metadata": {
    "pycharm": {
     "name": "#%% md\n"
    }
   },
   "source": [
    "### Encoding for channel erasure\n",
    "\n",
    "Per every 2 uses of the channel, we'll send a third parity check codeword. It is generated from applying xor operator\n",
    " on the 2 first encoded blocks bits and sending the associated codeword.\n",
    "\n",
    "For example, when $k=3$, suppose we want to send $001$ and $010$. $001$ is encoded by $c_1$ and $010$ is encoded by\n",
    "$c_2$. Our parity codeword will then be $001 \\oplus 010=011$, encoded by $c_3$."
   ]
  },
  {
   "cell_type": "code",
   "execution_count": 10,
   "metadata": {
    "pycharm": {
     "name": "#%%\n"
    }
   },
   "outputs": [],
   "source": [
    "def compute_parity_check(bitarray_1, bitarray_2):\n",
    "    parity_check = []\n",
    "    for bit in range(0, len(bitarray_1)):\n",
    "        parity_check.append(bitarray_1[bit] ^ bitarray_2[bit])\n",
    "    return parity_check"
   ]
  },
  {
   "cell_type": "code",
   "execution_count": 11,
   "metadata": {
    "pycharm": {
     "name": "#%%\n"
    }
   },
   "outputs": [
    {
     "name": "stdout",
     "output_type": "stream",
     "text": [
      "Hello         [0, 1, 0, 0, 1, 0, 0, 0, 0, 1, 1, 0, 0, 1, 0, 1, 0, 1, 1, 0, 1, 1, 0, 0, 0, 1, 1, 0, 1, 1, 0, 0, 0, 1, 1, 0, 1, 1, 1, 1]\n",
      "World         [0, 1, 0, 1, 0, 1, 1, 1, 0, 1, 1, 0, 1, 1, 1, 1, 0, 1, 1, 1, 0, 0, 1, 0, 0, 1, 1, 0, 1, 1, 0, 0, 0, 1, 1, 0, 0, 1, 0, 0]\n",
      "Parity check  [0, 0, 0, 1, 1, 1, 1, 1, 0, 0, 0, 0, 1, 0, 1, 0, 0, 0, 0, 1, 1, 1, 1, 0, 0, 0, 0, 0, 0, 0, 0, 0, 0, 0, 0, 0, 1, 0, 1, 1]\n"
     ]
    }
   ],
   "source": [
    "print(\"Hello        \", string_to_bitarray('Hello'))\n",
    "print(\"World        \", string_to_bitarray('World'))\n",
    "print(\"Parity check \", compute_parity_check(string_to_bitarray('Hello'), string_to_bitarray('World')))"
   ]
  },
  {
   "cell_type": "markdown",
   "metadata": {
    "pycharm": {
     "name": "#%% md\n"
    }
   },
   "source": [
    "Also, we'll interleave our codewords so that, erasing one channel symbol over 3 will in fact erase a full codeword.\n",
    "We'll recover this one with the parity check by inverting our xor operation.\n",
    "\n",
    "For example, if we want to send $c_1$, $c_2$ and $c_3$, we'll send $c_{10}c_{20}c_{30}c_{11}c_{21}c_{31}..\n",
    ".c_{1n}c_{2n}c_{3n}$"
   ]
  },
  {
   "cell_type": "code",
   "execution_count": 12,
   "metadata": {
    "pycharm": {
     "name": "#%%\n"
    }
   },
   "outputs": [],
   "source": [
    "def interleave_codewords_to_send(codeword_1, codeword_2, parity_check_encoded):\n",
    "    codewords = np.array([codeword_1, codeword_2, parity_check_encoded])\n",
    "    return codewords.transpose().flatten()"
   ]
  },
  {
   "cell_type": "code",
   "execution_count": 13,
   "metadata": {
    "pycharm": {
     "name": "#%%\n"
    }
   },
   "outputs": [
    {
     "name": "stdout",
     "output_type": "stream",
     "text": [
      "[0 0 0 1 1 0 0 0 0 0 1 1 1 0 1 0 1 1 0 1 1 0 1 1 0 0 0 1 1 0 1 1 0 0 0 0 0\n",
      " 1 1 1 1 0 0 1 1 1 1 0 0 0 0 1 1 0 1 1 0 0 1 1 1 0 1 1 0 1 0 1 1 0 0 0 0 0\n",
      " 0 1 1 0 1 1 0 0 0 0 1 1 0 1 1 0 0 0 0 0 0 0 0 0 0 1 1 0 1 1 0 0 0 0 1 0 1\n",
      " 1 1 0 1 0 1 1 0 1]\n"
     ]
    }
   ],
   "source": [
    "# Tests interleaving 'Hello', 'World' and their parity check\n",
    "interleaved_hello_world = interleave_codewords_to_send(string_to_bitarray('Hello'), string_to_bitarray('World'),\n",
    "                                                       compute_parity_check(string_to_bitarray('Hello'),\n",
    "                                                                            string_to_bitarray('World')))\n",
    "print(interleaved_hello_world)"
   ]
  },
  {
   "cell_type": "markdown",
   "metadata": {
    "pycharm": {
     "name": "#%% md\n"
    }
   },
   "source": [
    "### Making an erasing channel\n",
    "We build the channel that randomly removes $1/3$ of the coordinates given"
   ]
  },
  {
   "cell_type": "code",
   "execution_count": 14,
   "metadata": {
    "pycharm": {
     "name": "#%%\n"
    }
   },
   "outputs": [],
   "source": [
    "# the channel input is the array of interleaved codewords and their parity check\n",
    "def erasing_channel(chan_input):\n",
    "    chan_input = np.clip(chan_input, -1, 1)\n",
    "    erased_index = np.random.randint(3)\n",
    "    chan_input[erased_index:len(chan_input):3] = 0\n",
    "    return chan_input"
   ]
  },
  {
   "cell_type": "markdown",
   "metadata": {
    "pycharm": {
     "name": "#%% md\n"
    }
   },
   "source": [
    "### Build a simple codewords book for erasure testing\n",
    "The codebook will be as follows: $0 \\to -1$ and $1 \\to 1$. This codebook is very simple, has $k=n=1$ and will just be\n",
    " useful for making our bitstring able to go through the erasing channel."
   ]
  },
  {
   "cell_type": "code",
   "execution_count": 15,
   "metadata": {
    "pycharm": {
     "name": "#%%\n"
    }
   },
   "outputs": [],
   "source": [
    "def encode(bitarray):\n",
    "    encoded = []\n",
    "    for bit in bitarray:\n",
    "        if bit == 0:\n",
    "            encoded.append(-1)\n",
    "        elif bit == 1:\n",
    "            encoded.append(1)\n",
    "        else:\n",
    "            print(\"bit array should only contain 0 or 1\")\n",
    "            return\n",
    "    return encoded"
   ]
  },
  {
   "cell_type": "code",
   "execution_count": 16,
   "metadata": {
    "pycharm": {
     "name": "#%%\n"
    }
   },
   "outputs": [
    {
     "name": "stdout",
     "output_type": "stream",
     "text": [
      "Hello binary:   [0, 1, 0, 0, 1, 0, 0, 0, 0, 1, 1, 0, 0, 1, 0, 1, 0, 1, 1, 0, 1, 1, 0, 0, 0, 1, 1, 0, 1, 1, 0, 0, 0, 1, 1, 0, 1, 1, 1, 1]\n",
      "Hello encoded:  [-1, 1, -1, -1, 1, -1, -1, -1, -1, 1, 1, -1, -1, 1, -1, 1, -1, 1, 1, -1, 1, 1, -1, -1, -1, 1, 1, -1, 1, 1, -1, -1, -1, 1, 1, -1, 1, 1, 1, 1]\n"
     ]
    }
   ],
   "source": [
    "print(\"Hello binary:  \", string_to_bitarray('Hello'))\n",
    "print(\"Hello encoded: \", encode(string_to_bitarray('Hello')))"
   ]
  },
  {
   "cell_type": "markdown",
   "metadata": {
    "pycharm": {
     "name": "#%% md\n"
    }
   },
   "source": [
    "### Decoding procedure\n",
    "We'll :\n",
    "1. Uninterleave the received array to retrieve what should be associated to each codeword\n",
    "2. Find the codeword that was erased by looking for a $[0,...,0]$ array\n",
    "3. Decode the codewords that was correctly sent\n",
    "  * If the erased codeword is the third one, it means that only the parity check was affected which is not a problem,\n",
    "   we just return the decoded bits from both first codewords\n",
    "   * If the erased codeword is one of both first, we apply $\\oplus$ on both correctly decoded bits to retrieve the\n",
    "   erased\n",
    "    one thanks to the parity check"
   ]
  },
  {
   "cell_type": "code",
   "execution_count": 17,
   "metadata": {
    "pycharm": {
     "name": "#%%\n"
    }
   },
   "outputs": [],
   "source": [
    "# the triplet contains 2 codewords encoding k bits and the codeword encoding the parity check bits\n",
    "def uninterleave_codewords_received(three_codewords):\n",
    "    # we create chunks of size 3, the interleaved codewords matrix (shape (n,3))\n",
    "    codewords_triplet = np.array_split(np.array(three_codewords), len(three_codewords) // 3)\n",
    "\n",
    "    # we transpose it to retrieve the aligned codewords in order\n",
    "    codewords = np.array(codewords_triplet).transpose().flatten()\n",
    "    return (codewords)"
   ]
  },
  {
   "cell_type": "code",
   "execution_count": 18,
   "metadata": {
    "pycharm": {
     "name": "#%%\n"
    }
   },
   "outputs": [],
   "source": [
    "# gives both correctly decoded codewords and the value of H observed (the modulus class of erased coordinate)\n",
    "def decode_output_retrieve_erased(uninterleaved_three_codewords):\n",
    "    decoded = []\n",
    "    erased = -1\n",
    "    n = len(uninterleaved_three_codewords) // 3\n",
    "\n",
    "    # classic decoding from our codebook\n",
    "    for i, symbol in enumerate(uninterleaved_three_codewords):\n",
    "        if symbol == 1:\n",
    "            decoded.append(1)\n",
    "        elif symbol == -1:\n",
    "            decoded.append(0)\n",
    "        elif symbol == 0:\n",
    "            # this one was erased\n",
    "            erased = (i // n) % 3\n",
    "        else:\n",
    "            print(\"Error: symbols cannot be other than 0 and ±1\")\n",
    "            return\n",
    "    return decoded, erased"
   ]
  },
  {
   "cell_type": "code",
   "execution_count": 19,
   "metadata": {
    "pycharm": {
     "name": "#%%\n"
    }
   },
   "outputs": [],
   "source": [
    "# decoded contains both correctly decoded codewords (can be information codeword and parity or 2 information codewords)\n",
    "# the parity codeword (present if erased != 2) is in the last half of the decoded bit array\n",
    "def restore_erased(decoded, erased):\n",
    "    if erased != 2:\n",
    "        # an information codeword was erased\n",
    "        restored = []\n",
    "        n = len(decoded) // 2\n",
    "        for i in range(n):\n",
    "            # we recompute the erased one by binary one time padding\n",
    "            restored.append(decoded[i] ^ decoded[n + i])\n",
    "        if erased == 0:\n",
    "            # the first codeword was erased\n",
    "            return np.array([restored, decoded[0:len(decoded) // 2]]).flatten()\n",
    "        elif erased == 1:\n",
    "            # the second codeword was erased\n",
    "            return np.array([decoded[0:len(decoded) // 2], restored]).flatten()\n",
    "    else:\n",
    "        # the parity check codeword was erased\n",
    "        return decoded"
   ]
  },
  {
   "cell_type": "markdown",
   "metadata": {
    "pycharm": {
     "name": "#%% md\n"
    }
   },
   "source": [
    "#### Testing our system\n",
    "We now try to send \"HelloWorld\" message over the erasing channel and try to restore it:"
   ]
  },
  {
   "cell_type": "code",
   "execution_count": 20,
   "metadata": {
    "pycharm": {
     "name": "#%%\n"
    }
   },
   "outputs": [
    {
     "name": "stdout",
     "output_type": "stream",
     "text": [
      "Channel input:     [-1, -1, -1, 1, 1, -1, -1, -1, -1, -1, 1, 1, 1, -1, 1, -1, 1, 1, -1, 1, 1, -1, 1, 1, -1, -1, -1, 1, 1, -1, 1, 1, -1, -1, -1, -1, -1, 1, 1, 1, 1, -1, -1, 1, 1, 1, 1, -1, -1, -1, -1, 1, 1, -1, 1, 1, -1, -1, 1, 1, 1, -1, 1, 1, -1, 1, -1, 1, 1, -1, -1, -1, -1, -1, -1, 1, 1, -1, 1, 1, -1, -1, -1, -1, 1, 1, -1, 1, 1, -1, -1, -1, -1, -1, -1, -1, -1, -1, -1, 1, 1, -1, 1, 1, -1, -1, -1, -1, 1, -1, 1, 1, 1, -1, 1, -1, 1, 1, -1, 1]\n",
      "Channel output:    [-1, -1, 0, 1, 1, 0, -1, -1, 0, -1, 1, 0, 1, -1, 0, -1, 1, 0, -1, 1, 0, -1, 1, 0, -1, -1, 0, 1, 1, 0, 1, 1, 0, -1, -1, 0, -1, 1, 0, 1, 1, 0, -1, 1, 0, 1, 1, 0, -1, -1, 0, 1, 1, 0, 1, 1, 0, -1, 1, 0, 1, -1, 0, 1, -1, 0, -1, 1, 0, -1, -1, 0, -1, -1, 0, 1, 1, 0, 1, 1, 0, -1, -1, 0, 1, 1, 0, 1, 1, 0, -1, -1, 0, -1, -1, 0, -1, -1, 0, 1, 1, 0, 1, 1, 0, -1, -1, 0, 1, -1, 0, 1, 1, 0, 1, -1, 0, 1, -1, 0]\n",
      "\n",
      "Uninterleaved in:  [-1, 1, -1, -1, 1, -1, -1, -1, -1, 1, 1, -1, -1, 1, -1, 1, -1, 1, 1, -1, 1, 1, -1, -1, -1, 1, 1, -1, 1, 1, -1, -1, -1, 1, 1, -1, 1, 1, 1, 1, -1, 1, -1, 1, -1, 1, 1, 1, -1, 1, 1, -1, 1, 1, 1, 1, -1, 1, 1, 1, -1, -1, 1, -1, -1, 1, 1, -1, 1, 1, -1, -1, -1, 1, 1, -1, -1, 1, -1, -1, -1, -1, -1, 1, 1, 1, 1, 1, -1, -1, -1, -1, 1, -1, 1, -1, -1, -1, -1, 1, 1, 1, 1, -1, -1, -1, -1, -1, -1, -1, -1, -1, -1, -1, -1, -1, 1, -1, 1, 1]\n",
      "Uninterleaved out: [-1, 1, -1, -1, 1, -1, -1, -1, -1, 1, 1, -1, -1, 1, -1, 1, -1, 1, 1, -1, 1, 1, -1, -1, -1, 1, 1, -1, 1, 1, -1, -1, -1, 1, 1, -1, 1, 1, 1, 1, -1, 1, -1, 1, -1, 1, 1, 1, -1, 1, 1, -1, 1, 1, 1, 1, -1, 1, 1, 1, -1, -1, 1, -1, -1, 1, 1, -1, 1, 1, -1, -1, -1, 1, 1, -1, -1, 1, -1, -1, 0, 0, 0, 0, 0, 0, 0, 0, 0, 0, 0, 0, 0, 0, 0, 0, 0, 0, 0, 0, 0, 0, 0, 0, 0, 0, 0, 0, 0, 0, 0, 0, 0, 0, 0, 0, 0, 0, 0, 0]\n",
      "\n",
      "Decoded output:    [0, 1, 0, 0, 1, 0, 0, 0, 0, 1, 1, 0, 0, 1, 0, 1, 0, 1, 1, 0, 1, 1, 0, 0, 0, 1, 1, 0, 1, 1, 0, 0, 0, 1, 1, 0, 1, 1, 1, 1, 0, 1, 0, 1, 0, 1, 1, 1, 0, 1, 1, 0, 1, 1, 1, 1, 0, 1, 1, 1, 0, 0, 1, 0, 0, 1, 1, 0, 1, 1, 0, 0, 0, 1, 1, 0, 0, 1, 0, 0]\n",
      "Erased codeword:   2 [3]\n",
      "\n",
      "Sent:              [0, 1, 0, 0, 1, 0, 0, 0, 0, 1, 1, 0, 0, 1, 0, 1, 0, 1, 1, 0, 1, 1, 0, 0, 0, 1, 1, 0, 1, 1, 0, 0, 0, 1, 1, 0, 1, 1, 1, 1, 0, 1, 0, 1, 0, 1, 1, 1, 0, 1, 1, 0, 1, 1, 1, 1, 0, 1, 1, 1, 0, 0, 1, 0, 0, 1, 1, 0, 1, 1, 0, 0, 0, 1, 1, 0, 0, 1, 0, 0]\n",
      "Restored:          [0, 1, 0, 0, 1, 0, 0, 0, 0, 1, 1, 0, 0, 1, 0, 1, 0, 1, 1, 0, 1, 1, 0, 0, 0, 1, 1, 0, 1, 1, 0, 0, 0, 1, 1, 0, 1, 1, 1, 1, 0, 1, 0, 1, 0, 1, 1, 1, 0, 1, 1, 0, 1, 1, 1, 1, 0, 1, 1, 1, 0, 0, 1, 0, 0, 1, 1, 0, 1, 1, 0, 0, 0, 1, 1, 0, 0, 1, 0, 0]\n",
      "Restored string:   HelloWorld\n"
     ]
    }
   ],
   "source": [
    "channel_input = encode(interleaved_hello_world)\n",
    "print(\"Channel input:    \", channel_input)\n",
    "channel_output = erasing_channel(channel_input)\n",
    "print(\"Channel output:   \", list(channel_output))\n",
    "\n",
    "print()\n",
    "\n",
    "uninterleaved_input = encode(np.array([string_to_bitarray('Hello'), string_to_bitarray('World'), compute_parity_check\n",
    "(string_to_bitarray('Hello'), string_to_bitarray('World'))]).flatten())\n",
    "print(\"Uninterleaved in: \", list(uninterleaved_input))\n",
    "uninterleaved_output = uninterleave_codewords_received(channel_output)\n",
    "print(\"Uninterleaved out:\", list(uninterleaved_output))\n",
    "\n",
    "print()\n",
    "\n",
    "decoded_output, erased_codewords = decode_output_retrieve_erased(uninterleaved_output)\n",
    "print(\"Decoded output:   \", decoded_output)\n",
    "print(\"Erased codeword:  \", erased_codewords, \"[3]\")\n",
    "\n",
    "print()\n",
    "\n",
    "sent = np.array([string_to_bitarray('Hello'), string_to_bitarray('World')]).flatten()\n",
    "print(\"Sent:             \", list(sent))\n",
    "restored = restore_erased(decoded_output, erased_codewords)\n",
    "print(\"Restored:         \", list(restored))\n",
    "print(\"Restored string:  \", bitarray_to_string(restored))"
   ]
  },
  {
   "cell_type": "markdown",
   "metadata": {
    "pycharm": {
     "name": "#%% md\n"
    }
   },
   "source": [
    "## 3. Recovering from noise\n",
    "The problem states that each received symbol $Y_i=\\tilde{X}_i+Z_i$ where $\\tilde{X}_i$ is the symbol after passing\n",
    "the **erasing channel** and $Z_i\\sim \\mathcal{N}(0,10)$ is the added **White Gaussian Noise**.\n",
    "To deal with the erasures, we'll apply the same procedure as above (that works fine also on other codebooks).\n",
    "However, the white noise need to be tackled smartly considering its high variance, and the low energy of channel input.\n",
    "\n",
    "To do so, we choose as our codebook the **Orthogonal Code $C_k$** which has a high distance between codewords for\n",
    "reasonable amount of energy and is pretty simple to generate.\n",
    "\n",
    "We recall the recursive $C_k$ definition:\n",
    "* $C_0=\\{1\\}$\n",
    "* $C_{k+1}=C_k'$ where $C_k'$ is such that for every $c\\in C_k$, $(c,c)$ and $(c,-c) \\in C_k'$\n",
    "* e.g.: $C_1=\\{(1,1),(1,-1)\\}$, $C_2=\\{(1,1,1,1),(1,1,-1,-1),(1,-1,1,-1),(1,-1,-1,1)\\}$ ...\n",
    "* As proved in the Homework 2, the first coordinate of this code can be dropped to form a sufficient statistic\n",
    "(always equal to 1)\n",
    "* This way, $C_2=\\{(1,1,1),(1,-1,-1),(-1,1,-1),(-1,-1,1)\\}$ for example"
   ]
  },
  {
   "cell_type": "code",
   "execution_count": 21,
   "metadata": {
    "pycharm": {
     "name": "#%%\n"
    }
   },
   "outputs": [],
   "source": [
    "def create_c_k(code_size):\n",
    "    c_0 = 1\n",
    "    c_k = [c_0]\n",
    "    for i in range(1, code_size + 1):\n",
    "        c_k_1 = []\n",
    "        for codeword in c_k:\n",
    "            c_c = np.array([[codeword, codeword]]).flatten()\n",
    "            c_min_c = np.array([[codeword, -1 * codeword]]).flatten()\n",
    "            c_k_1.append(c_c)\n",
    "            c_k_1.append(c_min_c)\n",
    "        c_k = c_k_1.copy()\n",
    "    # drops the first coordinate of every code to have codewords of length codewords_length\n",
    "    return np.array(c_k)[:, 1:]"
   ]
  },
  {
   "cell_type": "code",
   "execution_count": 22,
   "metadata": {
    "pycharm": {
     "name": "#%%\n"
    }
   },
   "outputs": [
    {
     "name": "stdout",
     "output_type": "stream",
     "text": [
      "[[ 1  1  1]\n",
      " [ 1 -1 -1]\n",
      " [-1  1 -1]\n",
      " [-1 -1  1]]\n"
     ]
    }
   ],
   "source": [
    "# we verify if c_2 was correctly computed\n",
    "print(create_c_k(2))"
   ]
  },
  {
   "cell_type": "markdown",
   "metadata": {
    "pycharm": {
     "name": "#%% md\n"
    }
   },
   "source": [
    "### Combine parity check and orthogonal coding\n",
    "We now can create codewords associated to each k-plet of bits. Let's implement the encodng of a bitarray for a\n",
    "parametrized value of k.\n",
    "Recall that codewords of $C_k$ have length $k-1$, requiring that encoded arrays have a lower length to be encoded and\n",
    " decoded correctly."
   ]
  },
  {
   "cell_type": "code",
   "execution_count": 23,
   "metadata": {
    "pycharm": {
     "name": "#%%\n"
    }
   },
   "outputs": [],
   "source": [
    "# Encodes both arrays of k bits with the orthogonal code and return encoded 2k bits and their k parity check bits\n",
    "# encoded in 3 codewords\n",
    "def encode_ortho(bitarray_1, bitarray_2, code_size, nb_bits_send):\n",
    "    if len(bitarray_1) != len(bitarray_2): print(\n",
    "        \"Error, both encoded bitarrays should have same length (length k)\"); return\n",
    "    if len(bitarray_1) > code_size: print(\n",
    "        \"Error, the codebook size should be bigger than the nb of bits to encode\"); return\n",
    "    # creates the indexes of those k bits (and their pcheck) in the codebook\n",
    "    codeword_1_index = bitarray_to_int(bitarray_1)\n",
    "    codeword_2_index = bitarray_to_int(bitarray_2)\n",
    "\n",
    "    parity_check = compute_parity_check(bitarray_1, bitarray_2)\n",
    "    codeword_check_index = bitarray_to_int(parity_check)\n",
    "\n",
    "    # we select in this codebook the codewords that will be used by our sent bits\n",
    "    codebook = create_c_k(code_size)[:2 ** nb_bits_send]\n",
    "\n",
    "    return codebook[codeword_1_index], codebook[codeword_2_index], codebook[codeword_check_index]"
   ]
  },
  {
   "cell_type": "markdown",
   "metadata": {
    "pycharm": {
     "name": "#%% md\n"
    }
   },
   "source": [
    "We try to encode the $10$ and $01$ bits pairs. We then have $k=2$ and use $C_2$. Their parity check bits are $11$. We\n",
    " should then have the codewords $3$, $2$ and $4$ of $C_2$"
   ]
  },
  {
   "cell_type": "code",
   "execution_count": 24,
   "metadata": {
    "pycharm": {
     "name": "#%%\n"
    }
   },
   "outputs": [
    {
     "name": "stdout",
     "output_type": "stream",
     "text": [
      "[-1, 1, -1]\n",
      "[1, -1, -1]\n",
      "[-1, -1, 1]\n"
     ]
    }
   ],
   "source": [
    "for cw in encode_ortho([1, 0], [0, 1], 2, 2):\n",
    "    print(list(cw))"
   ]
  },
  {
   "cell_type": "markdown",
   "metadata": {
    "pycharm": {
     "name": "#%% md\n"
    }
   },
   "source": [
    "### Simulate the erasing noisy channel\n",
    "We create the channel that outputs $Y_i$. For testing purposes, we make it return the realization of the erased symbol"
   ]
  },
  {
   "cell_type": "code",
   "execution_count": 25,
   "metadata": {
    "pycharm": {
     "name": "#%%\n"
    }
   },
   "outputs": [],
   "source": [
    "def noisy_erasing_channel(chan_input):\n",
    "    chan_input = np.clip(chan_input, -1, 1)\n",
    "    erased_index = np.random.randint(3)\n",
    "    chan_input[erased_index:len(chan_input):3] = 0\n",
    "    return chan_input + np.sqrt(10) * np.random.randn(len(chan_input)), erased_index"
   ]
  },
  {
   "cell_type": "markdown",
   "metadata": {
    "pycharm": {
     "name": "#%% md\n"
    }
   },
   "source": [
    "### Decoding procedure\n",
    "The decoding will happen following:\n",
    "1. We uninterleave the received symbols\n",
    "2. We compute the empirical mean of each codewords classes (the codewords placed $0^{th}[3]$, $1^{st}[3]$ and\n",
    "$2^{nd}[3]$ in the codewords sequence)\n",
    "    * The mean closest to 0 represents the class of erased codewords\n",
    "3. For the unerased (but noisy) channel outputs, we compute their scalar product with every codeword of $C_k$\n",
    "    * The highest product is the one with the most similar codewords, we interpret the noisy channel output as being\n",
    "    this symbol\n",
    "4. We decode the decided codewords and use them to compute (with parity check) the erased codeword\n",
    "\n",
    "#### Finding the erased coordinate"
   ]
  },
  {
   "cell_type": "code",
   "execution_count": 26,
   "metadata": {
    "pycharm": {
     "name": "#%%\n"
    }
   },
   "outputs": [],
   "source": [
    "def find_erased_noisy(uninterleaved_chan_output, code_size):\n",
    "    # we recall that the codewords length of C_k is (2^k)-1\n",
    "    n = (2 ** code_size) - 1\n",
    "    # We divide out output in arrays of length n (each represent a codeword)\n",
    "    output_symbols = np.array_split(np.array(uninterleaved_chan_output), len(uninterleaved_chan_output) // n)\n",
    "\n",
    "    class_0_codewords = []\n",
    "    class_1_codewords = []\n",
    "    class_2_codewords = []\n",
    "\n",
    "    mean_0 = mean_1 = mean_2 = 0.\n",
    "    for i, codeword in enumerate(output_symbols):\n",
    "        # we are interested in computing the distance from 0 to mean\n",
    "        # we have to sum the squared output symbols\n",
    "        # (as codewords input have zero mean w/out absolute distance computation)\n",
    "        if i % 3 == 0:\n",
    "            mean_0 += np.sum(codeword ** 2)\n",
    "            class_0_codewords.append(codeword)\n",
    "        if i % 3 == 1:\n",
    "            mean_1 += np.sum(codeword ** 2)\n",
    "            class_1_codewords.append(codeword)\n",
    "        if i % 3 == 2:\n",
    "            mean_2 += np.sum(codeword ** 2)\n",
    "            class_2_codewords.append(codeword)\n",
    "\n",
    "    # As all means should be computed by dividing by the size of the class (each have same size),\n",
    "    # we don't make that extra computation that does\n",
    "    # not changes the ordering\n",
    "    if abs(mean_0) < abs(mean_1) and abs(mean_0) < abs(mean_2):\n",
    "        return 0, np.array(class_1_codewords), np.array(class_2_codewords)\n",
    "    if abs(mean_1) < abs(mean_0) and abs(mean_1) < abs(mean_2):\n",
    "        return 1, np.array(class_0_codewords), np.array(class_2_codewords)\n",
    "    if abs(mean_2) < abs(mean_1) and abs(mean_2) < abs(mean_0):\n",
    "        return 2, np.array(class_0_codewords), np.array(class_1_codewords)\n",
    "\n",
    "    print(\"Error: no closest to 0 mean found\")\n",
    "    return"
   ]
  },
  {
   "cell_type": "markdown",
   "metadata": {
    "pycharm": {
     "name": "#%% md\n"
    }
   },
   "source": [
    "We try to find the erased codeword when noise is added. We'll again use $C_2$ codebook for testing:"
   ]
  },
  {
   "cell_type": "code",
   "execution_count": 27,
   "metadata": {
    "pycharm": {
     "name": "#%%\n"
    }
   },
   "outputs": [
    {
     "name": "stdout",
     "output_type": "stream",
     "text": [
      "Codeword 1:      [-1, 1, -1]\n",
      "Codeword 2:      [1, -1, -1]\n",
      "Codeword 3:      [-1, -1, 1]\n",
      "Uninterleaved:   [-2.83161035  3.8295799   2.43992265  3.70063509  0.73906368  1.38255729\n",
      "  6.1396697   1.41819139  1.56100849]\n",
      "Erased predict:  1\n",
      "Erased real:     2\n"
     ]
    }
   ],
   "source": [
    "cw_1, cw_2, cw_3 = encode_ortho([1, 0], [0, 1], 2, 2)\n",
    "print(\"Codeword 1:     \", list(cw_1))\n",
    "print(\"Codeword 2:     \", list(cw_2))\n",
    "print(\"Codeword 3:     \", list(cw_3))\n",
    "interleaved_C2 = interleave_codewords_to_send(cw_1, cw_2, cw_3)\n",
    "\n",
    "chan_output_1, erased_index = noisy_erasing_channel(interleaved_C2)\n",
    "\n",
    "uninterleaved_C2 = uninterleave_codewords_received(chan_output_1)\n",
    "print(\"Uninterleaved:  \", uninterleaved_C2)\n",
    "\n",
    "erased_found, correct_1, correct_2 = find_erased_noisy(uninterleaved_C2, 2)\n",
    "print(\"Erased predict: \", erased_found)\n",
    "print(\"Erased real:    \", erased_index)"
   ]
  },
  {
   "cell_type": "markdown",
   "metadata": {
    "pycharm": {
     "name": "#%% md\n"
    }
   },
   "source": [
    "We see that the prediction is pretty bad. Indeed, this method relies on the fact that a huge number of realizations\n",
    "will reveal the global mean.\n",
    "\n",
    "12 channel outputs is not enough to approximate the mean.\n",
    "\n",
    "We try to send more codewords through our channel:"
   ]
  },
  {
   "cell_type": "code",
   "execution_count": 28,
   "metadata": {
    "pycharm": {
     "name": "#%%\n"
    }
   },
   "outputs": [],
   "source": [
    "# defines a sending/receiving protocol and outputs the erased prediction and real values\n",
    "def test_erasure_recovery(nb_triplets_to_send):\n",
    "    interleaved_to_send = []\n",
    "    for i in range(nb_triplets_to_send):\n",
    "        cw_1, cw_2, cw_3 = encode_ortho([i % 2, (i + 1) % 2], [(i + 1) % 2, i % 2], 2, 2)\n",
    "        interleaved_to_send.append(interleave_codewords_to_send(cw_1, cw_2, cw_3))\n",
    "    interleaved_to_send = np.array(interleaved_to_send).flatten()\n",
    "    nb_symbols = len(interleaved_to_send)\n",
    "\n",
    "    chan_output_2, erased_real = noisy_erasing_channel(interleaved_to_send)\n",
    "\n",
    "    uninterleaved_received = []\n",
    "    # we split back our array in triplets_to_send (which makes it contains codewords triplets at each element)\n",
    "    output_triplets = np.array_split(np.array(chan_output_2), nb_triplets_to_send)\n",
    "    for triplet in output_triplets:\n",
    "        uninterleaved_received.append(uninterleave_codewords_received(triplet))\n",
    "    uninterleaved_received = np.array(uninterleaved_received).flatten()\n",
    "\n",
    "    erased_found, correct_1, correct_2 = find_erased_noisy(uninterleaved_received, 2)\n",
    "\n",
    "    return erased_found, erased_real, nb_symbols"
   ]
  },
  {
   "cell_type": "code",
   "execution_count": 29,
   "metadata": {
    "pycharm": {
     "name": "#%%\n"
    }
   },
   "outputs": [
    {
     "name": "stdout",
     "output_type": "stream",
     "text": [
      "Correctness ratio:  1.0\n",
      "Nb sent symbols:    4500\n"
     ]
    }
   ],
   "source": [
    "nb_success = nb_fails = 0\n",
    "nb_symbols = 0\n",
    "for test in range(10):\n",
    "    erased_found_t, erased_real_t, nb_symbols = test_erasure_recovery(500)\n",
    "    if erased_found_t == erased_real_t:\n",
    "        nb_success += 1\n",
    "    else:\n",
    "        nb_fails += 1\n",
    "\n",
    "print(\"Correctness ratio: \", nb_success / (nb_success + nb_fails))\n",
    "print(\"Nb sent symbols:   \", nb_symbols)"
   ]
  },
  {
   "cell_type": "markdown",
   "metadata": {
    "pycharm": {
     "name": "#%% md\n"
    }
   },
   "source": [
    "We finally observe that, using the channel for 1500 informations+parity check bits (meaning 4500 channel symbols with\n",
    " $k=2$),\n",
    " we\n",
    "discover\n",
    "the erased coordinate\n",
    " with very high probability."
   ]
  },
  {
   "cell_type": "markdown",
   "metadata": {
    "pycharm": {
     "name": "#%% md\n"
    }
   },
   "source": [
    "#### Denoising the information codewords\n",
    "We are then left with 2 non-erased but noisy codewords. Computing their scalar product with every $c_i\\in C_k$ is done\n",
    "by making a matrix $\\big(\\begin{smallmatrix}\n",
    "  c_1\\\\\n",
    "  c_2\\\\\n",
    "  ...\\\\\n",
    "  c_{2^k}\\\\\n",
    "\\end{smallmatrix}\\big)$. We then can take $Y_i$ and $Y_j$, the non erased output symbols, and compute:\n",
    "\n",
    "\n",
    "$\\begin{pmatrix}\n",
    "  c_1\\\\\n",
    "  ...\\\\\n",
    "  c_{2^k}\\\\\n",
    "\\end{pmatrix}.(Y_{i1} ... Y_{i2^k})^T=\n",
    "\\begin{pmatrix}\n",
    "  s_{i1}\\\\\n",
    "  ...\\\\\n",
    "  s_{i2^k}\\\\\n",
    "\\end{pmatrix}$ where $s_{i1},...,s_{i2^k}$ represent the similarity of $Y_i$ whith every codewords. Selecting the\n",
    "line $m$ where $s_{im}>s_{iq}$ for all $q\\in \\{1,...,2^k\\}$, we decide that $c_m$ was sent when we recieved $Y_i$.\n",
    "\n",
    "Finally, we must define the number of encoded bits by each codeword (from the encoding, we know it must be lower than\n",
    " the code size). With this, we select only the necessary codewords of $C_k$ that have the maximum minimum distance\n",
    " between them."
   ]
  },
  {
   "cell_type": "code",
   "execution_count": 30,
   "metadata": {
    "pycharm": {
     "name": "#%%\n"
    }
   },
   "outputs": [],
   "source": [
    "def decode_ortho(chan_output_1, chan_output_2, code_size, nb_bits_send):\n",
    "    c_k = create_c_k(code_size)[:2 ** nb_bits_send]\n",
    "    sim_1 = np.matmul(c_k, np.array(chan_output_1).T)\n",
    "    sim_2 = np.matmul(c_k, np.array(chan_output_2).T)\n",
    "\n",
    "    cw_index_1 = np.argmax(sim_1.T)\n",
    "    cw_index_2 = np.argmax(sim_2.T)\n",
    "\n",
    "    return int_to_bitarray(cw_index_1, nb_bits_send), int_to_bitarray(cw_index_2, nb_bits_send)"
   ]
  },
  {
   "cell_type": "code",
   "execution_count": 31,
   "metadata": {
    "pycharm": {
     "name": "#%%\n"
    }
   },
   "outputs": [
    {
     "name": "stdout",
     "output_type": "stream",
     "text": [
      "Sent 1:     [0, 1]\n",
      "Sent 2:     [1, 0]\n",
      "Decided 1:  [0, 1]\n",
      "Decided 2:  [1, 0]\n"
     ]
    }
   ],
   "source": [
    "# We try to implement the selection with no noise for the sake of testing\n",
    "code_1, code_2, pcheck = encode_ortho([0, 1], [1, 0], 2, 2)\n",
    "print(\"Sent 1:    \", [0, 1])\n",
    "print(\"Sent 2:    \", [1, 0])\n",
    "\n",
    "decoded_1, decoded_2 = decode_ortho(code_1, code_2, 2, 2)\n",
    "print(\"Decided 1: \", list(decoded_1))\n",
    "print(\"Decided 2: \", list(decoded_2))"
   ]
  },
  {
   "cell_type": "markdown",
   "metadata": {
    "pycharm": {
     "name": "#%% md\n"
    }
   },
   "source": [
    "### Creating the whole procedure\n",
    "Now we have all the necessary building blocks to reproduce our channel. We must fine tune the parameters `code_size`\n",
    "and `nb_bits_send` to reduce as much as possible the number of sent symbols (we must have `nb_symbols`$\\leq 60000$)\n",
    "while keeping the\n",
    "highest\n",
    "minimum\n",
    "distance between every codeword."
   ]
  },
  {
   "cell_type": "code",
   "execution_count": 32,
   "metadata": {
    "pycharm": {
     "name": "#%%\n"
    }
   },
   "outputs": [],
   "source": [
    "def whole_procedure(string, code_size, nb_bits_send):\n",
    "    # 1. convert string to bitarray\n",
    "    bitarray = string_to_bitarray(string)\n",
    "\n",
    "    # 2. create the pairs of 2*k bits to compute checksum bits\n",
    "    if len(bitarray) % (2 * nb_bits_send) != 0: print(\"Error, the input should have length multiple of 2k (here:\",\n",
    "                                                      2 * nb_bits_send, \") but has length \", len(bitarray));return\n",
    "    k_bits_pairs = np.array_split(np.array(bitarray), len(bitarray) // (2 * nb_bits_send))\n",
    "\n",
    "    # 3. we create the symbol array to send\n",
    "    cw_triplets_interleaved = []\n",
    "    for pair in k_bits_pairs:\n",
    "        splited_pair = np.array_split(pair, 2)\n",
    "        if len(splited_pair[0]) != nb_bits_send: print(\"Error, badly parsed string, not k bits encoded\"); return\n",
    "\n",
    "        # 3.1 we compute the checksum bits to send and the orthogonal encoding of the triplet\n",
    "        cw_1, cw_2, pcheck = encode_ortho(splited_pair[0], splited_pair[1], code_size, nb_bits_send)\n",
    "\n",
    "        # 3.2 we interleave those 3 codewords and prepare them to be sent over the channel_output\n",
    "        cw_triplets_interleaved.append(interleave_codewords_to_send(cw_1, cw_2, pcheck))\n",
    "    nb_triplets = len(k_bits_pairs)\n",
    "    cw_triplets_interleaved = np.array(cw_triplets_interleaved).flatten()\n",
    "    nb_symbols = len(cw_triplets_interleaved)\n",
    "\n",
    "    # 4. we send our symbols over the channel_output\n",
    "    channel_output, erased_real = noisy_erasing_channel(cw_triplets_interleaved)\n",
    "\n",
    "    # 5. we uninterleave the input\n",
    "    output_triplets = np.array_split(np.array(channel_output), nb_triplets)\n",
    "    uninterleaved_received = []\n",
    "    for triplet in output_triplets:\n",
    "        uninterleaved_received.append(uninterleave_codewords_received(triplet))\n",
    "    uninterleaved_received = np.array(uninterleaved_received).flatten()\n",
    "\n",
    "    # 6. we find the erased coordinate and retrieve the non erased channel outputs codewords\n",
    "    erased_found, ok_output_class_1, ok_output_class_2 = find_erased_noisy(uninterleaved_received, code_size)\n",
    "\n",
    "    # 7. we decode the non erased channel output codewords\n",
    "    decoded_bitarray = []\n",
    "    for i in range(len(ok_output_class_1)):\n",
    "        decoded_1, decoded_2 = decode_ortho(ok_output_class_1[i], ok_output_class_2[i], code_size, nb_bits_send)\n",
    "        decoded = np.concatenate((decoded_1, decoded_2), axis=0)\n",
    "\n",
    "        # 8. we restore the erased coordinate\n",
    "        restored_pair = restore_erased(decoded, erased_found)\n",
    "        decoded_bitarray.append(restored_pair)\n",
    "    decoded_bitarray = np.array(decoded_bitarray).flatten()\n",
    "\n",
    "    # 9. we interpret back our bitarray as string\n",
    "    decoded_string = bitarray_to_string(decoded_bitarray)\n",
    "\n",
    "    # 10. enjoy\n",
    "    return decoded_string, nb_symbols"
   ]
  },
  {
   "cell_type": "code",
   "execution_count": 66,
   "metadata": {
    "pycharm": {
     "name": "#%%\n"
    }
   },
   "outputs": [
    {
     "name": "stdout",
     "output_type": "stream",
     "text": [
      "Sent word:      Hello World is the CLIC event that aims at introducing students to IC Faculty wow\n",
      "Received word:  Hello World is the CLIC event that aims at introducing students to IC Faculty wow\n",
      "Are equal:      True\n",
      "Symbols sent:   55188\n"
     ]
    }
   ],
   "source": [
    "# this string is 80 char long\n",
    "string_to_send = \"Hello World is the CLIC event that aims at introducing students to IC Faculty wow\" \n",
    "print(\"Sent word:     \", string_to_send)\n",
    "received_string, nb_symbols = whole_procedure(string_to_send, 9, 9)\n",
    "print(\"Received word: \", received_string)\n",
    "print(\"Are equal:     \", string_to_send == received_string)\n",
    "print(\"Symbols sent:  \", nb_symbols)"
   ]
  },
  {
   "cell_type": "code",
   "execution_count": 36,
   "metadata": {
    "scrolled": true
   },
   "outputs": [
    {
     "name": "stdout",
     "output_type": "stream",
     "text": [
      "81\n"
     ]
    }
   ],
   "source": [
    "print(len(string_to_send))"
   ]
  },
  {
   "cell_type": "code",
   "execution_count": 35,
   "metadata": {
    "pycharm": {
     "name": "#%%\n"
    },
    "scrolled": true
   },
   "outputs": [
    {
     "name": "stdout",
     "output_type": "stream",
     "text": [
      "Success ratio:  1.0\n"
     ]
    }
   ],
   "source": [
    "nb_success = nb_fails = 0\n",
    "for i in range(10):\n",
    "    received_string, nb_symbols = whole_procedure(string_to_send, 9, 9)\n",
    "    if string_to_send == received_string:\n",
    "        nb_success += 1\n",
    "    else:\n",
    "        nb_fails += 1\n",
    "\n",
    "print(\"Success ratio: \", nb_success / (nb_success + nb_fails))\n",
    "\n"
   ]
  },
  {
   "cell_type": "markdown",
   "metadata": {},
   "source": [
    "## Running the client script"
   ]
  },
  {
   "cell_type": "code",
   "execution_count": 60,
   "metadata": {},
   "outputs": [],
   "source": [
    "def first_part_procedure(string, code_size, nb_bits_send):\n",
    "    # 1. convert string to bitarray\n",
    "    bitarray = string_to_bitarray(string)\n",
    "\n",
    "    # 2. create the pairs of 2*k bits to compute checksum bits\n",
    "    if len(bitarray) % (2 * nb_bits_send) != 0: print(\"Error, the input should have length multiple of 2k (here:\",\n",
    "                                                      2 * nb_bits_send, \") but has length \", len(bitarray));return\n",
    "    k_bits_pairs = np.array_split(np.array(bitarray), len(bitarray) // (2 * nb_bits_send))\n",
    "\n",
    "    # 3. we create the symbol array to send\n",
    "    cw_triplets_interleaved = []\n",
    "    for pair in k_bits_pairs:\n",
    "        splited_pair = np.array_split(pair, 2)\n",
    "        if len(splited_pair[0]) != nb_bits_send: print(\"Error, badly parsed string, not k bits encoded\"); return\n",
    "\n",
    "        # 3.1 we compute the checksum bits to send and the orthogonal encoding of the triplet\n",
    "        cw_1, cw_2, pcheck = encode_ortho(splited_pair[0], splited_pair[1], code_size, nb_bits_send)\n",
    "\n",
    "        # 3.2 we interleave those 3 codewords and prepare them to be sent over the channel_output\n",
    "        cw_triplets_interleaved.append(interleave_codewords_to_send(cw_1, cw_2, pcheck))\n",
    "    nb_triplets = len(k_bits_pairs)\n",
    "    cw_triplets_interleaved = np.array(cw_triplets_interleaved).flatten()\n",
    "    nb_symbols = len(cw_triplets_interleaved)\n",
    "    \n",
    "    #4 We save as a txt file\n",
    "    np.savetxt('input.txt',cw_triplets_interleaved)\n",
    "\n",
    "    return nb_triplets"
   ]
  },
  {
   "cell_type": "code",
   "execution_count": 61,
   "metadata": {},
   "outputs": [],
   "source": [
    "def second_part_procedure(output_file_name, code_size, nb_bits_send,nb_triplets):\n",
    "    \n",
    "\n",
    "    # 4. We read the output from the channel\n",
    "    channel_output =  np.loadtxt(output_file_name)\n",
    "\n",
    "    # 5. we uninterleave the input\n",
    "    output_triplets = np.array_split(np.array(channel_output), nb_triplets)\n",
    "    uninterleaved_received = []\n",
    "    for triplet in output_triplets:\n",
    "        uninterleaved_received.append(uninterleave_codewords_received(triplet))\n",
    "    uninterleaved_received = np.array(uninterleaved_received).flatten()\n",
    "\n",
    "    # 6. we find the erased coordinate and retrieve the non erased channel outputs codewords\n",
    "    erased_found, ok_output_class_1, ok_output_class_2 = find_erased_noisy(uninterleaved_received, code_size)\n",
    "\n",
    "    # 7. we decode the non erased channel output codewords\n",
    "    decoded_bitarray = []\n",
    "    for i in range(len(ok_output_class_1)):\n",
    "        decoded_1, decoded_2 = decode_ortho(ok_output_class_1[i], ok_output_class_2[i], code_size, nb_bits_send)\n",
    "        decoded = np.concatenate((decoded_1, decoded_2), axis=0)\n",
    "\n",
    "        # 8. we restore the erased coordinate\n",
    "        restored_pair = restore_erased(decoded, erased_found)\n",
    "        decoded_bitarray.append(restored_pair)\n",
    "    decoded_bitarray = np.array(decoded_bitarray).flatten()\n",
    "\n",
    "    # 9. we interpret back our bitarray as string\n",
    "    decoded_string = bitarray_to_string(decoded_bitarray)\n",
    "\n",
    "    # 10. enjoy\n",
    "    return decoded_string, nb_symbols"
   ]
  },
  {
   "cell_type": "code",
   "execution_count": 67,
   "metadata": {},
   "outputs": [],
   "source": [
    "nb_triplets = first_part_procedure(string_to_send,9,9)"
   ]
  },
  {
   "cell_type": "code",
   "execution_count": 68,
   "metadata": {},
   "outputs": [],
   "source": [
    "%run client --input_file input.txt --output_file output.txt --srv_hostname iscsrv72.epfl.ch --srv_port 80"
   ]
  },
  {
   "cell_type": "code",
   "execution_count": 69,
   "metadata": {},
   "outputs": [
    {
     "name": "stdout",
     "output_type": "stream",
     "text": [
      "Hello World is the CLIC event that aims at introducing students to IC Faculty wow\n",
      "True\n"
     ]
    }
   ],
   "source": [
    "decoded_string, block_size =second_part_procedure('output.txt',9,9,nb_triplets)\n",
    "print(decoded_string)\n",
    "print(string_to_send == decoded_string)"
   ]
  }
 ],
 "metadata": {
  "kernelspec": {
   "display_name": "Python 3",
   "language": "python",
   "name": "python3"
  },
  "language_info": {
   "codemirror_mode": {
    "name": "ipython",
    "version": 3
   },
   "file_extension": ".py",
   "mimetype": "text/x-python",
   "name": "python",
   "nbconvert_exporter": "python",
   "pygments_lexer": "ipython3",
   "version": "3.8.5"
  }
 },
 "nbformat": 4,
 "nbformat_minor": 1
}
