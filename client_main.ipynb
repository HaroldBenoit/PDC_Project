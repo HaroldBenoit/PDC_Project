{
 "cells": [
  {
   "cell_type": "markdown",
   "metadata": {
    "collapsed": true,
    "pycharm": {
     "name": "#%% md\n"
    }
   },
   "source": [
    "# Principles of Digital Communication - Project\n",
    "_Harold Benoit, Tom Demont_\n",
    "\n",
    "_May 2021_"
   ]
  },
  {
   "cell_type": "code",
   "execution_count": 1082,
   "outputs": [],
   "source": [
    "import numpy as np"
   ],
   "metadata": {
    "collapsed": false,
    "pycharm": {
     "name": "#%%\n"
    }
   }
  },
  {
   "cell_type": "markdown",
   "source": [
    "## 1. Text conversion from string to bits\n",
    "We will first create the utility methods for conversion from utf-8 text."
   ],
   "metadata": {
    "collapsed": false
   }
  },
  {
   "cell_type": "code",
   "execution_count": 1083,
   "outputs": [],
   "source": [
    "def string_to_bitarray(string):\n",
    "    string_bytes = string.encode('utf-8')\n",
    "    bits = []\n",
    "    for b in string_bytes:\n",
    "        mask = 1\n",
    "        for i in range(7,-1,-1):\n",
    "            bits.append((b >> i)&mask)\n",
    "    return bits"
   ],
   "metadata": {
    "collapsed": false,
    "pycharm": {
     "name": "#%%\n"
    }
   }
  },
  {
   "cell_type": "code",
   "execution_count": 1084,
   "outputs": [
    {
     "name": "stdout",
     "output_type": "stream",
     "text": [
      "[0, 1, 0, 0, 1, 0, 0, 0, 0, 1, 1, 0, 0, 1, 0, 1, 0, 1, 1, 0, 1, 1, 0, 0, 0, 1, 1, 0, 1, 1, 0, 0, 0, 1, 1, 0, 1, 1, 1, 1, 0, 0, 1, 0, 0, 0, 0, 0, 0, 1, 0, 1, 0, 1, 1, 1, 0, 1, 1, 0, 1, 1, 1, 1, 0, 1, 1, 1, 0, 0, 1, 0, 0, 1, 1, 0, 1, 1, 0, 0, 0, 1, 1, 0, 0, 1, 0, 0, 0, 0, 1, 0, 0, 0, 0, 0, 1, 1, 1, 1, 0, 0, 0, 0, 1, 0, 0, 1, 1, 1, 1, 1, 1, 0, 0, 1, 1, 0, 0, 0, 1, 0, 0, 0, 0, 0, 1, 1]\n"
     ]
    }
   ],
   "source": [
    "print(string_to_bitarray('Hello World 😃'))"
   ],
   "metadata": {
    "collapsed": false,
    "pycharm": {
     "name": "#%%\n"
    }
   }
  },
  {
   "cell_type": "code",
   "execution_count": 1085,
   "outputs": [],
   "source": [
    "def bitarray_to_string(bitarray):\n",
    "    bytes = []\n",
    "    # the format for putting one bit in a string\n",
    "    string = \"{0:0\"+str(1)+\"b}\"\n",
    "\n",
    "    # go over all bytes given\n",
    "    for nb_bytes in range(0, len(bitarray)//8):\n",
    "        # recreates the byte from the bits\n",
    "        byte = ''\n",
    "        for bit in range(0,8):\n",
    "            byte += string.format(bitarray[nb_bytes*8+bit])\n",
    "        # adds the integer associated to the binary string in that byte (between 0 and 255)\n",
    "        bytes.append(int(byte,2))\n",
    "    return str(bytearray(bytes), 'utf-8')"
   ],
   "metadata": {
    "collapsed": false,
    "pycharm": {
     "name": "#%%\n"
    }
   }
  },
  {
   "cell_type": "markdown",
   "source": [
    "#### Testing our system\n",
    "We verify that transforming a string to a bit array back and forth works well:"
   ],
   "metadata": {
    "collapsed": false,
    "pycharm": {
     "name": "#%% md\n"
    }
   }
  },
  {
   "cell_type": "code",
   "execution_count": 1086,
   "outputs": [
    {
     "data": {
      "text/plain": "'Hello World 😃'"
     },
     "execution_count": 1086,
     "metadata": {},
     "output_type": "execute_result"
    }
   ],
   "source": [
    "bitarray_to_string(string_to_bitarray('Hello World 😃'))"
   ],
   "metadata": {
    "collapsed": false,
    "pycharm": {
     "name": "#%%\n"
    }
   }
  },
  {
   "cell_type": "markdown",
   "source": [
    "## 2. Recover from channel erasure\n",
    "To recover from channel erasure, we'll implement a **parity check**."
   ],
   "metadata": {
    "collapsed": false,
    "pycharm": {
     "name": "#%% md\n"
    }
   }
  },
  {
   "cell_type": "markdown",
   "source": [
    "### Encoding for channel erasure\n",
    "\n",
    "Per every 2 uses of the channel, we'll send a third parity check codeword. It is generated from applying xor operator\n",
    " on the 2 first encoded blocks bits and sending the associated codeword.\n",
    "\n",
    "For example, when $k=3$, suppose we want to send $001$ and $010$. $001$ is encoded by $c_1$ and $010$ is encoded by\n",
    "$c_2$. Our parity codeword will then be $001 \\oplus 010=011$, encoded by $c_3$."
   ],
   "metadata": {
    "collapsed": false,
    "pycharm": {
     "name": "#%% md\n"
    }
   }
  },
  {
   "cell_type": "code",
   "execution_count": 1087,
   "outputs": [],
   "source": [
    "def compute_parity_check(bitarray_1, bitarray_2):\n",
    "    parity_check = []\n",
    "    for bit in range(0,len(bitarray_1)):\n",
    "        parity_check.append(bitarray_1[bit] ^ bitarray_2[bit])\n",
    "    return parity_check"
   ],
   "metadata": {
    "collapsed": false,
    "pycharm": {
     "name": "#%%\n"
    }
   }
  },
  {
   "cell_type": "code",
   "execution_count": 1088,
   "outputs": [
    {
     "name": "stdout",
     "output_type": "stream",
     "text": [
      "Hello         [0, 1, 0, 0, 1, 0, 0, 0, 0, 1, 1, 0, 0, 1, 0, 1, 0, 1, 1, 0, 1, 1, 0, 0, 0, 1, 1, 0, 1, 1, 0, 0, 0, 1, 1, 0, 1, 1, 1, 1]\n",
      "World         [0, 1, 0, 1, 0, 1, 1, 1, 0, 1, 1, 0, 1, 1, 1, 1, 0, 1, 1, 1, 0, 0, 1, 0, 0, 1, 1, 0, 1, 1, 0, 0, 0, 1, 1, 0, 0, 1, 0, 0]\n",
      "Parity check  [0, 0, 0, 1, 1, 1, 1, 1, 0, 0, 0, 0, 1, 0, 1, 0, 0, 0, 0, 1, 1, 1, 1, 0, 0, 0, 0, 0, 0, 0, 0, 0, 0, 0, 0, 0, 1, 0, 1, 1]\n"
     ]
    }
   ],
   "source": [
    "print(\"Hello        \",string_to_bitarray('Hello'))\n",
    "print(\"World        \",string_to_bitarray('World'))\n",
    "print(\"Parity check \",compute_parity_check(string_to_bitarray('Hello'),string_to_bitarray('World')))"
   ],
   "metadata": {
    "collapsed": false,
    "pycharm": {
     "name": "#%%\n"
    }
   }
  },
  {
   "cell_type": "markdown",
   "source": [
    "Also, we'll interleave our codewords so that, erasing one channel symbol over 3 will in fact erase a full codeword.\n",
    "We'll recover this one with the parity check by inverting our xor operation.\n",
    "\n",
    "For example, if we want to send $c_1c_2c_3$, we'll send $c_{10}c_{20}c_{30}c_{11}c_{21}c_{31}...c_{1n}c_{2n}c_{3n}$"
   ],
   "metadata": {
    "collapsed": false,
    "pycharm": {
     "name": "#%% md\n"
    }
   },
   "outputs": [
    {
     "ename": "SyntaxError",
     "evalue": "EOL while scanning string literal (<ipython-input-1-72185e154f6b>, line 1)",
     "output_type": "error",
     "traceback": [
      "\u001B[0;36m  File \u001B[0;32m\"<ipython-input-1-72185e154f6b>\"\u001B[0;36m, line \u001B[0;32m1\u001B[0m\n\u001B[0;31m    Also, we'll interleave our codewords so that, erasing one channel symbol over 3 will in fact erase a full codeword.\u001B[0m\n\u001B[0m                                                                                                                       ^\u001B[0m\n\u001B[0;31mSyntaxError\u001B[0m\u001B[0;31m:\u001B[0m EOL while scanning string literal\n"
     ]
    }
   ],
   "execution_count": 1
  },
  {
   "cell_type": "code",
   "execution_count": 1089,
   "outputs": [],
   "source": [
    "def interleave_codewords_to_send(codeword_1, codeword_2, parity_check_encoded):\n",
    "    codewords = np.array([codeword_1, codeword_2, parity_check_encoded])\n",
    "    return codewords.transpose().flatten()"
   ],
   "metadata": {
    "collapsed": false,
    "pycharm": {
     "name": "#%%\n"
    }
   }
  },
  {
   "cell_type": "code",
   "execution_count": 1090,
   "outputs": [
    {
     "name": "stdout",
     "output_type": "stream",
     "text": [
      "[0 0 0 1 1 0 0 0 0 0 1 1 1 0 1 0 1 1 0 1 1 0 1 1 0 0 0 1 1 0 1 1 0 0 0 0 0\n",
      " 1 1 1 1 0 0 1 1 1 1 0 0 0 0 1 1 0 1 1 0 0 1 1 1 0 1 1 0 1 0 1 1 0 0 0 0 0\n",
      " 0 1 1 0 1 1 0 0 0 0 1 1 0 1 1 0 0 0 0 0 0 0 0 0 0 1 1 0 1 1 0 0 0 0 1 0 1\n",
      " 1 1 0 1 0 1 1 0 1]\n"
     ]
    }
   ],
   "source": [
    "# Tests interleaving 'Hello', 'World' and their parity check\n",
    "interleaved_hello_world = interleave_codewords_to_send(string_to_bitarray('Hello'), string_to_bitarray('World'),\n",
    "                                           compute_parity_check\n",
    "(string_to_bitarray('Hello'),string_to_bitarray('World')))\n",
    "print(interleaved_hello_world)"
   ],
   "metadata": {
    "collapsed": false,
    "pycharm": {
     "name": "#%%\n"
    }
   }
  },
  {
   "cell_type": "markdown",
   "source": [
    "### Making an erasing channel\n",
    "We build the channel that randomly removes $1/3$ of the coordinates given"
   ],
   "metadata": {
    "collapsed": false,
    "pycharm": {
     "name": "#%% md\n"
    }
   }
  },
  {
   "cell_type": "code",
   "execution_count": 1091,
   "outputs": [],
   "source": [
    "# the channel input is the array of interleaved codewords and their parity check\n",
    "def erasing_channel(chan_input):\n",
    "    chan_input = np.clip(chan_input,-1,1)\n",
    "    erased_index = np.random.randint(3)\n",
    "    chan_input[erased_index:len(chan_input):3] = 0\n",
    "    return chan_input"
   ],
   "metadata": {
    "collapsed": false,
    "pycharm": {
     "name": "#%%\n"
    }
   }
  },
  {
   "cell_type": "markdown",
   "source": [
    "### Build a simple codewords book for erasure testing\n",
    "The codebook will be as follows: $0 \\to -1$ and $1 \\to 1$. This codebook is very simple, has $k=n=1$ and will just be\n",
    " useful for making our bitstring able to go through the erasing channel."
   ],
   "metadata": {
    "collapsed": false,
    "pycharm": {
     "name": "#%% md\n"
    }
   }
  },
  {
   "cell_type": "code",
   "execution_count": 1092,
   "outputs": [],
   "source": [
    "def encode(bitarray):\n",
    "    encoded = []\n",
    "    for bit in bitarray:\n",
    "        if bit == 0:\n",
    "            encoded.append(-1)\n",
    "        elif bit == 1:\n",
    "            encoded.append(1)\n",
    "        else:\n",
    "            print(\"bit array should only contain 0 or 1\")\n",
    "            return\n",
    "    return encoded"
   ],
   "metadata": {
    "collapsed": false,
    "pycharm": {
     "name": "#%%\n"
    }
   }
  },
  {
   "cell_type": "code",
   "execution_count": 1093,
   "outputs": [
    {
     "name": "stdout",
     "output_type": "stream",
     "text": [
      "Hello binary:   [0, 1, 0, 0, 1, 0, 0, 0, 0, 1, 1, 0, 0, 1, 0, 1, 0, 1, 1, 0, 1, 1, 0, 0, 0, 1, 1, 0, 1, 1, 0, 0, 0, 1, 1, 0, 1, 1, 1, 1]\n",
      "Hello encoded:  [-1, 1, -1, -1, 1, -1, -1, -1, -1, 1, 1, -1, -1, 1, -1, 1, -1, 1, 1, -1, 1, 1, -1, -1, -1, 1, 1, -1, 1, 1, -1, -1, -1, 1, 1, -1, 1, 1, 1, 1]\n"
     ]
    }
   ],
   "source": [
    "print(\"Hello binary:  \",string_to_bitarray('Hello'))\n",
    "print(\"Hello encoded: \",encode(string_to_bitarray('Hello')))"
   ],
   "metadata": {
    "collapsed": false,
    "pycharm": {
     "name": "#%%\n"
    }
   }
  },
  {
   "cell_type": "markdown",
   "source": [
    "### Decoding procedure\n",
    "We'll :\n",
    "1. Uninterleave the received array to retrieve what should be associated to each codeword\n",
    "2. Find the codeword that was erased by looking for a $[0,...,0]$ array\n",
    "3. Decode the codewords that was correctly sent\n",
    "  * If the erased codeword is the third one, it means that only the parity check was affected which is not a problem,\n",
    "   we just return the decoded bits from both first codewords\n",
    "   * If the erased codeword is one of both first, we apply $\\oplus$ on both correctly decoded bits to retrieve the\n",
    "   erased\n",
    "    one thanks to the parity check"
   ],
   "metadata": {
    "collapsed": false,
    "pycharm": {
     "name": "#%% md\n"
    }
   }
  },
  {
   "cell_type": "code",
   "execution_count": 1094,
   "outputs": [],
   "source": [
    "# the triplet contains 2 codewords encoding k bits and the codeword encoding the parity check bits\n",
    "def uninterleave_codewords_received(three_codewords):\n",
    "    # we create chunks of size 3, the interleaved codewords matrix (shape (n,3))\n",
    "    codewords_triplet = np.array_split(np.array(three_codewords), len(three_codewords)//3)\n",
    "\n",
    "    # we transpose it to retrieve the aligned codewords in order\n",
    "    codewords = np.array(codewords_triplet).transpose().flatten()\n",
    "    return (codewords)"
   ],
   "metadata": {
    "collapsed": false,
    "pycharm": {
     "name": "#%%\n"
    }
   }
  },
  {
   "cell_type": "code",
   "execution_count": 1095,
   "outputs": [],
   "source": [
    "# gives both correctly decoded codewords and the value of H observed (the modulus class of erased coordinate)\n",
    "def decode_output_retrieve_erased(uninterleaved_three_codewords):\n",
    "    decoded = []\n",
    "    erased = -1\n",
    "    n = len(uninterleaved_three_codewords)//3\n",
    "\n",
    "    # classic decoding from our codebook\n",
    "    for i,symbol in enumerate(uninterleaved_three_codewords):\n",
    "        if symbol == 1:\n",
    "            decoded.append(1)\n",
    "        elif symbol == -1:\n",
    "            decoded.append(0)\n",
    "        elif symbol == 0:\n",
    "            # this one was erased\n",
    "            erased = (i//n)%3\n",
    "        else:\n",
    "            print(\"Error: symbols cannot be other than 0 and ±1\")\n",
    "            return\n",
    "    return decoded,erased"
   ],
   "metadata": {
    "collapsed": false,
    "pycharm": {
     "name": "#%%\n"
    }
   }
  },
  {
   "cell_type": "code",
   "execution_count": 1096,
   "outputs": [],
   "source": [
    "# decoded contains both correctly decoded codewords (can be information codeword and parity or 2 information codewords)\n",
    "# the parity codeword (present if erased != 2) is in the last half of the decoded bit array\n",
    "def restore_erased(decoded, erased):\n",
    "    if erased != 2:\n",
    "        # an information codeword was erased\n",
    "        restored = []\n",
    "        n = len(decoded)//2\n",
    "        for i in range(n):\n",
    "            # we recompute the erased one by binary one time padding\n",
    "            restored.append(decoded[i]^decoded[n+i])\n",
    "        if erased == 0:\n",
    "            # the first codeword was erased\n",
    "            return np.array([restored,decoded[0:len(decoded)//2]]).flatten()\n",
    "        elif erased == 1:\n",
    "            # the second codeword was erased\n",
    "            return np.array([decoded[0:len(decoded)//2],restored]).flatten()\n",
    "    else:\n",
    "        # the parity check codeword was erased\n",
    "        return decoded"
   ],
   "metadata": {
    "collapsed": false,
    "pycharm": {
     "name": "#%%\n"
    }
   }
  },
  {
   "cell_type": "markdown",
   "source": [
    "#### Testing our system\n",
    "We now try to send \"HelloWorld\" message over the erasing channel and try to restore it:"
   ],
   "metadata": {
    "collapsed": false,
    "pycharm": {
     "name": "#%% md\n"
    }
   }
  },
  {
   "cell_type": "code",
   "execution_count": 1097,
   "outputs": [
    {
     "name": "stdout",
     "output_type": "stream",
     "text": [
      "Channel input:     [-1, -1, -1, 1, 1, -1, -1, -1, -1, -1, 1, 1, 1, -1, 1, -1, 1, 1, -1, 1, 1, -1, 1, 1, -1, -1, -1, 1, 1, -1, 1, 1, -1, -1, -1, -1, -1, 1, 1, 1, 1, -1, -1, 1, 1, 1, 1, -1, -1, -1, -1, 1, 1, -1, 1, 1, -1, -1, 1, 1, 1, -1, 1, 1, -1, 1, -1, 1, 1, -1, -1, -1, -1, -1, -1, 1, 1, -1, 1, 1, -1, -1, -1, -1, 1, 1, -1, 1, 1, -1, -1, -1, -1, -1, -1, -1, -1, -1, -1, 1, 1, -1, 1, 1, -1, -1, -1, -1, 1, -1, 1, 1, 1, -1, 1, -1, 1, 1, -1, 1]\n",
      "Channel output:    [-1, 0, -1, 1, 0, -1, -1, 0, -1, -1, 0, 1, 1, 0, 1, -1, 0, 1, -1, 0, 1, -1, 0, 1, -1, 0, -1, 1, 0, -1, 1, 0, -1, -1, 0, -1, -1, 0, 1, 1, 0, -1, -1, 0, 1, 1, 0, -1, -1, 0, -1, 1, 0, -1, 1, 0, -1, -1, 0, 1, 1, 0, 1, 1, 0, 1, -1, 0, 1, -1, 0, -1, -1, 0, -1, 1, 0, -1, 1, 0, -1, -1, 0, -1, 1, 0, -1, 1, 0, -1, -1, 0, -1, -1, 0, -1, -1, 0, -1, 1, 0, -1, 1, 0, -1, -1, 0, -1, 1, 0, 1, 1, 0, -1, 1, 0, 1, 1, 0, 1]\n",
      "\n",
      "Uninterleaved in:  [-1, 1, -1, -1, 1, -1, -1, -1, -1, 1, 1, -1, -1, 1, -1, 1, -1, 1, 1, -1, 1, 1, -1, -1, -1, 1, 1, -1, 1, 1, -1, -1, -1, 1, 1, -1, 1, 1, 1, 1, -1, 1, -1, 1, -1, 1, 1, 1, -1, 1, 1, -1, 1, 1, 1, 1, -1, 1, 1, 1, -1, -1, 1, -1, -1, 1, 1, -1, 1, 1, -1, -1, -1, 1, 1, -1, -1, 1, -1, -1, -1, -1, -1, 1, 1, 1, 1, 1, -1, -1, -1, -1, 1, -1, 1, -1, -1, -1, -1, 1, 1, 1, 1, -1, -1, -1, -1, -1, -1, -1, -1, -1, -1, -1, -1, -1, 1, -1, 1, 1]\n",
      "Uninterleaved out: [-1, 1, -1, -1, 1, -1, -1, -1, -1, 1, 1, -1, -1, 1, -1, 1, -1, 1, 1, -1, 1, 1, -1, -1, -1, 1, 1, -1, 1, 1, -1, -1, -1, 1, 1, -1, 1, 1, 1, 1, 0, 0, 0, 0, 0, 0, 0, 0, 0, 0, 0, 0, 0, 0, 0, 0, 0, 0, 0, 0, 0, 0, 0, 0, 0, 0, 0, 0, 0, 0, 0, 0, 0, 0, 0, 0, 0, 0, 0, 0, -1, -1, -1, 1, 1, 1, 1, 1, -1, -1, -1, -1, 1, -1, 1, -1, -1, -1, -1, 1, 1, 1, 1, -1, -1, -1, -1, -1, -1, -1, -1, -1, -1, -1, -1, -1, 1, -1, 1, 1]\n",
      "\n",
      "Decoded output:    [0, 1, 0, 0, 1, 0, 0, 0, 0, 1, 1, 0, 0, 1, 0, 1, 0, 1, 1, 0, 1, 1, 0, 0, 0, 1, 1, 0, 1, 1, 0, 0, 0, 1, 1, 0, 1, 1, 1, 1, 0, 0, 0, 1, 1, 1, 1, 1, 0, 0, 0, 0, 1, 0, 1, 0, 0, 0, 0, 1, 1, 1, 1, 0, 0, 0, 0, 0, 0, 0, 0, 0, 0, 0, 0, 0, 1, 0, 1, 1]\n",
      "Erased codeword:   1 [3]\n",
      "\n",
      "Sent:              [0, 1, 0, 0, 1, 0, 0, 0, 0, 1, 1, 0, 0, 1, 0, 1, 0, 1, 1, 0, 1, 1, 0, 0, 0, 1, 1, 0, 1, 1, 0, 0, 0, 1, 1, 0, 1, 1, 1, 1, 0, 1, 0, 1, 0, 1, 1, 1, 0, 1, 1, 0, 1, 1, 1, 1, 0, 1, 1, 1, 0, 0, 1, 0, 0, 1, 1, 0, 1, 1, 0, 0, 0, 1, 1, 0, 0, 1, 0, 0]\n",
      "Restored:          [0, 1, 0, 0, 1, 0, 0, 0, 0, 1, 1, 0, 0, 1, 0, 1, 0, 1, 1, 0, 1, 1, 0, 0, 0, 1, 1, 0, 1, 1, 0, 0, 0, 1, 1, 0, 1, 1, 1, 1, 0, 1, 0, 1, 0, 1, 1, 1, 0, 1, 1, 0, 1, 1, 1, 1, 0, 1, 1, 1, 0, 0, 1, 0, 0, 1, 1, 0, 1, 1, 0, 0, 0, 1, 1, 0, 0, 1, 0, 0]\n",
      "Restored string:   HelloWorld\n"
     ]
    }
   ],
   "source": [
    "channel_input = encode(interleaved_hello_world)\n",
    "print(\"Channel input:    \", channel_input)\n",
    "channel_output = erasing_channel(channel_input)\n",
    "print(\"Channel output:   \", list(channel_output))\n",
    "\n",
    "print()\n",
    "\n",
    "uninterleaved_input = encode(np.array([string_to_bitarray('Hello'), string_to_bitarray('World'),compute_parity_check\n",
    "(string_to_bitarray('Hello'),string_to_bitarray('World'))]).flatten())\n",
    "print(\"Uninterleaved in: \", list(uninterleaved_input))\n",
    "uninterleaved_output = uninterleave_codewords_received(channel_output)\n",
    "print(\"Uninterleaved out:\", list(uninterleaved_output))\n",
    "\n",
    "print()\n",
    "\n",
    "decoded_output, erased_codewords = decode_output_retrieve_erased(uninterleaved_output)\n",
    "print(\"Decoded output:   \",decoded_output)\n",
    "print(\"Erased codeword:  \",erased_codewords,\"[3]\")\n",
    "\n",
    "print()\n",
    "\n",
    "sent = np.array([string_to_bitarray('Hello'), string_to_bitarray('World')]).flatten()\n",
    "print(\"Sent:             \",list(sent))\n",
    "restored = restore_erased(decoded_output, erased_codewords)\n",
    "print(\"Restored:         \",list(restored))\n",
    "print(\"Restored string:  \",bitarray_to_string(restored))"
   ],
   "metadata": {
    "collapsed": false,
    "pycharm": {
     "name": "#%%\n"
    }
   }
  },
  {
   "cell_type": "code",
   "execution_count": 1097,
   "outputs": [],
   "source": [],
   "metadata": {
    "collapsed": false,
    "pycharm": {
     "name": "#%%\n"
    }
   }
  }
 ],
 "metadata": {
  "kernelspec": {
   "display_name": "Python 3",
   "language": "python",
   "name": "python3"
  },
  "language_info": {
   "codemirror_mode": {
    "name": "ipython",
    "version": 2
   },
   "file_extension": ".py",
   "mimetype": "text/x-python",
   "name": "python",
   "nbconvert_exporter": "python",
   "pygments_lexer": "ipython2",
   "version": "2.7.6"
  }
 },
 "nbformat": 4,
 "nbformat_minor": 0
}